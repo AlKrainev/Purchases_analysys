{
 "cells": [
  {
   "cell_type": "markdown",
   "metadata": {},
   "source": [
    "https://lab.karpov.courses/learning/33/module/590/lesson/4750/13877/55280/"
   ]
  },
  {
   "cell_type": "code",
   "execution_count": 141,
   "metadata": {},
   "outputs": [],
   "source": [
    "import pandas as pd \n",
    "import numpy as np\n",
    "import seaborn as sns\n",
    "import matplotlib.pyplot as plt\n",
    "import datetime as dt\n",
    "import dateutil.relativedelta"
   ]
  },
  {
   "cell_type": "markdown",
   "metadata": {},
   "source": [
    "### Загрузка данных и их описание"
   ]
  },
  {
   "cell_type": "markdown",
   "metadata": {},
   "source": [
    "##### Таблица с уникальными идентификаторами пользователей"
   ]
  },
  {
   "cell_type": "code",
   "execution_count": 142,
   "metadata": {},
   "outputs": [
    {
     "data": {
      "text/html": [
       "<div>\n",
       "<style scoped>\n",
       "    .dataframe tbody tr th:only-of-type {\n",
       "        vertical-align: middle;\n",
       "    }\n",
       "\n",
       "    .dataframe tbody tr th {\n",
       "        vertical-align: top;\n",
       "    }\n",
       "\n",
       "    .dataframe thead th {\n",
       "        text-align: right;\n",
       "    }\n",
       "</style>\n",
       "<table border=\"1\" class=\"dataframe\">\n",
       "  <thead>\n",
       "    <tr style=\"text-align: right;\">\n",
       "      <th></th>\n",
       "      <th>customer_id</th>\n",
       "      <th>customer_unique_id</th>\n",
       "      <th>customer_zip_code_prefix</th>\n",
       "      <th>customer_city</th>\n",
       "      <th>customer_state</th>\n",
       "    </tr>\n",
       "  </thead>\n",
       "  <tbody>\n",
       "    <tr>\n",
       "      <th>0</th>\n",
       "      <td>06b8999e2fba1a1fbc88172c00ba8bc7</td>\n",
       "      <td>861eff4711a542e4b93843c6dd7febb0</td>\n",
       "      <td>14409</td>\n",
       "      <td>franca</td>\n",
       "      <td>SP</td>\n",
       "    </tr>\n",
       "    <tr>\n",
       "      <th>1</th>\n",
       "      <td>18955e83d337fd6b2def6b18a428ac77</td>\n",
       "      <td>290c77bc529b7ac935b93aa66c333dc3</td>\n",
       "      <td>9790</td>\n",
       "      <td>sao bernardo do campo</td>\n",
       "      <td>SP</td>\n",
       "    </tr>\n",
       "    <tr>\n",
       "      <th>2</th>\n",
       "      <td>4e7b3e00288586ebd08712fdd0374a03</td>\n",
       "      <td>060e732b5b29e8181a18229c7b0b2b5e</td>\n",
       "      <td>1151</td>\n",
       "      <td>sao paulo</td>\n",
       "      <td>SP</td>\n",
       "    </tr>\n",
       "    <tr>\n",
       "      <th>3</th>\n",
       "      <td>b2b6027bc5c5109e529d4dc6358b12c3</td>\n",
       "      <td>259dac757896d24d7702b9acbbff3f3c</td>\n",
       "      <td>8775</td>\n",
       "      <td>mogi das cruzes</td>\n",
       "      <td>SP</td>\n",
       "    </tr>\n",
       "    <tr>\n",
       "      <th>4</th>\n",
       "      <td>4f2d8ab171c80ec8364f7c12e35b23ad</td>\n",
       "      <td>345ecd01c38d18a9036ed96c73b8d066</td>\n",
       "      <td>13056</td>\n",
       "      <td>campinas</td>\n",
       "      <td>SP</td>\n",
       "    </tr>\n",
       "  </tbody>\n",
       "</table>\n",
       "</div>"
      ],
      "text/plain": [
       "                        customer_id                customer_unique_id  \\\n",
       "0  06b8999e2fba1a1fbc88172c00ba8bc7  861eff4711a542e4b93843c6dd7febb0   \n",
       "1  18955e83d337fd6b2def6b18a428ac77  290c77bc529b7ac935b93aa66c333dc3   \n",
       "2  4e7b3e00288586ebd08712fdd0374a03  060e732b5b29e8181a18229c7b0b2b5e   \n",
       "3  b2b6027bc5c5109e529d4dc6358b12c3  259dac757896d24d7702b9acbbff3f3c   \n",
       "4  4f2d8ab171c80ec8364f7c12e35b23ad  345ecd01c38d18a9036ed96c73b8d066   \n",
       "\n",
       "   customer_zip_code_prefix          customer_city customer_state  \n",
       "0                     14409                 franca             SP  \n",
       "1                      9790  sao bernardo do campo             SP  \n",
       "2                      1151              sao paulo             SP  \n",
       "3                      8775        mogi das cruzes             SP  \n",
       "4                     13056               campinas             SP  "
      ]
     },
     "execution_count": 142,
     "metadata": {},
     "output_type": "execute_result"
    }
   ],
   "source": [
    "olist_customers_dataset = pd.read_csv('olist_customers_dataset.csv')\n",
    "olist_customers_dataset.head()"
   ]
  },
  {
   "cell_type": "code",
   "execution_count": 143,
   "metadata": {},
   "outputs": [
    {
     "data": {
      "text/plain": [
       "(99441, 5)"
      ]
     },
     "execution_count": 143,
     "metadata": {},
     "output_type": "execute_result"
    }
   ],
   "source": [
    "# Размер таблицы\n",
    "olist_customers_dataset.shape"
   ]
  },
  {
   "cell_type": "markdown",
   "metadata": {},
   "source": [
    "customer_id — позаказный идентификатор пользователя (аналог номера паспорта)\n",
    "\n",
    "customer_unique_id —  уникальный идентификатор пользователя\n",
    "\n",
    "customer_zip_code_prefix —  почтовый индекс пользователя\n",
    "\n",
    "customer_city —  город доставки пользователя\n",
    "\n",
    "customer_state —  штат доставки пользователя"
   ]
  },
  {
   "cell_type": "markdown",
   "metadata": {},
   "source": [
    "##### Таблица заказов"
   ]
  },
  {
   "cell_type": "code",
   "execution_count": 144,
   "metadata": {},
   "outputs": [
    {
     "data": {
      "text/html": [
       "<div>\n",
       "<style scoped>\n",
       "    .dataframe tbody tr th:only-of-type {\n",
       "        vertical-align: middle;\n",
       "    }\n",
       "\n",
       "    .dataframe tbody tr th {\n",
       "        vertical-align: top;\n",
       "    }\n",
       "\n",
       "    .dataframe thead th {\n",
       "        text-align: right;\n",
       "    }\n",
       "</style>\n",
       "<table border=\"1\" class=\"dataframe\">\n",
       "  <thead>\n",
       "    <tr style=\"text-align: right;\">\n",
       "      <th></th>\n",
       "      <th>order_id</th>\n",
       "      <th>customer_id</th>\n",
       "      <th>order_status</th>\n",
       "      <th>order_purchase_timestamp</th>\n",
       "      <th>order_approved_at</th>\n",
       "      <th>order_delivered_carrier_date</th>\n",
       "      <th>order_delivered_customer_date</th>\n",
       "      <th>order_estimated_delivery_date</th>\n",
       "    </tr>\n",
       "  </thead>\n",
       "  <tbody>\n",
       "    <tr>\n",
       "      <th>0</th>\n",
       "      <td>e481f51cbdc54678b7cc49136f2d6af7</td>\n",
       "      <td>9ef432eb6251297304e76186b10a928d</td>\n",
       "      <td>delivered</td>\n",
       "      <td>2017-10-02 10:56:33</td>\n",
       "      <td>2017-10-02 11:07:15</td>\n",
       "      <td>2017-10-04 19:55:00</td>\n",
       "      <td>2017-10-10 21:25:13</td>\n",
       "      <td>2017-10-18</td>\n",
       "    </tr>\n",
       "    <tr>\n",
       "      <th>1</th>\n",
       "      <td>53cdb2fc8bc7dce0b6741e2150273451</td>\n",
       "      <td>b0830fb4747a6c6d20dea0b8c802d7ef</td>\n",
       "      <td>delivered</td>\n",
       "      <td>2018-07-24 20:41:37</td>\n",
       "      <td>2018-07-26 03:24:27</td>\n",
       "      <td>2018-07-26 14:31:00</td>\n",
       "      <td>2018-08-07 15:27:45</td>\n",
       "      <td>2018-08-13</td>\n",
       "    </tr>\n",
       "    <tr>\n",
       "      <th>2</th>\n",
       "      <td>47770eb9100c2d0c44946d9cf07ec65d</td>\n",
       "      <td>41ce2a54c0b03bf3443c3d931a367089</td>\n",
       "      <td>delivered</td>\n",
       "      <td>2018-08-08 08:38:49</td>\n",
       "      <td>2018-08-08 08:55:23</td>\n",
       "      <td>2018-08-08 13:50:00</td>\n",
       "      <td>2018-08-17 18:06:29</td>\n",
       "      <td>2018-09-04</td>\n",
       "    </tr>\n",
       "    <tr>\n",
       "      <th>3</th>\n",
       "      <td>949d5b44dbf5de918fe9c16f97b45f8a</td>\n",
       "      <td>f88197465ea7920adcdbec7375364d82</td>\n",
       "      <td>delivered</td>\n",
       "      <td>2017-11-18 19:28:06</td>\n",
       "      <td>2017-11-18 19:45:59</td>\n",
       "      <td>2017-11-22 13:39:59</td>\n",
       "      <td>2017-12-02 00:28:42</td>\n",
       "      <td>2017-12-15</td>\n",
       "    </tr>\n",
       "    <tr>\n",
       "      <th>4</th>\n",
       "      <td>ad21c59c0840e6cb83a9ceb5573f8159</td>\n",
       "      <td>8ab97904e6daea8866dbdbc4fb7aad2c</td>\n",
       "      <td>delivered</td>\n",
       "      <td>2018-02-13 21:18:39</td>\n",
       "      <td>2018-02-13 22:20:29</td>\n",
       "      <td>2018-02-14 19:46:34</td>\n",
       "      <td>2018-02-16 18:17:02</td>\n",
       "      <td>2018-02-26</td>\n",
       "    </tr>\n",
       "  </tbody>\n",
       "</table>\n",
       "</div>"
      ],
      "text/plain": [
       "                           order_id                       customer_id  \\\n",
       "0  e481f51cbdc54678b7cc49136f2d6af7  9ef432eb6251297304e76186b10a928d   \n",
       "1  53cdb2fc8bc7dce0b6741e2150273451  b0830fb4747a6c6d20dea0b8c802d7ef   \n",
       "2  47770eb9100c2d0c44946d9cf07ec65d  41ce2a54c0b03bf3443c3d931a367089   \n",
       "3  949d5b44dbf5de918fe9c16f97b45f8a  f88197465ea7920adcdbec7375364d82   \n",
       "4  ad21c59c0840e6cb83a9ceb5573f8159  8ab97904e6daea8866dbdbc4fb7aad2c   \n",
       "\n",
       "  order_status order_purchase_timestamp   order_approved_at  \\\n",
       "0    delivered      2017-10-02 10:56:33 2017-10-02 11:07:15   \n",
       "1    delivered      2018-07-24 20:41:37 2018-07-26 03:24:27   \n",
       "2    delivered      2018-08-08 08:38:49 2018-08-08 08:55:23   \n",
       "3    delivered      2017-11-18 19:28:06 2017-11-18 19:45:59   \n",
       "4    delivered      2018-02-13 21:18:39 2018-02-13 22:20:29   \n",
       "\n",
       "  order_delivered_carrier_date order_delivered_customer_date  \\\n",
       "0          2017-10-04 19:55:00           2017-10-10 21:25:13   \n",
       "1          2018-07-26 14:31:00           2018-08-07 15:27:45   \n",
       "2          2018-08-08 13:50:00           2018-08-17 18:06:29   \n",
       "3          2017-11-22 13:39:59           2017-12-02 00:28:42   \n",
       "4          2018-02-14 19:46:34           2018-02-16 18:17:02   \n",
       "\n",
       "  order_estimated_delivery_date  \n",
       "0                    2017-10-18  \n",
       "1                    2018-08-13  \n",
       "2                    2018-09-04  \n",
       "3                    2017-12-15  \n",
       "4                    2018-02-26  "
      ]
     },
     "execution_count": 144,
     "metadata": {},
     "output_type": "execute_result"
    }
   ],
   "source": [
    "olist_orders_dataset = pd.read_csv('olist_orders_dataset.csv', parse_dates=[3,4,5,6,7])\n",
    "olist_orders_dataset.head()"
   ]
  },
  {
   "cell_type": "code",
   "execution_count": 145,
   "metadata": {},
   "outputs": [
    {
     "data": {
      "text/plain": [
       "(99441, 8)"
      ]
     },
     "execution_count": 145,
     "metadata": {},
     "output_type": "execute_result"
    }
   ],
   "source": [
    "# Размер таблицы\n",
    "olist_orders_dataset.shape"
   ]
  },
  {
   "cell_type": "markdown",
   "metadata": {},
   "source": [
    "order_id —  уникальный идентификатор заказа (номер чека)\n",
    "\n",
    "customer_id —  позаказный идентификатор пользователя (аналог номера паспорта)\n",
    "\n",
    "order_status —  статус заказа\n",
    "\n",
    "order_purchase_timestamp —  время создания заказа\n",
    "\n",
    "order_approved_at —  время подтверждения оплаты заказа\n",
    "\n",
    "order_delivered_carrier_date —  время передачи заказа в логистическую службу\n",
    "\n",
    "order_delivered_customer_date —  время доставки заказа\n",
    "\n",
    "order_estimated_delivery_date —  обещанная дата доставки"
   ]
  },
  {
   "cell_type": "markdown",
   "metadata": {},
   "source": [
    "##### Товарные позиции, входящие в заказы"
   ]
  },
  {
   "cell_type": "code",
   "execution_count": 146,
   "metadata": {},
   "outputs": [
    {
     "data": {
      "text/html": [
       "<div>\n",
       "<style scoped>\n",
       "    .dataframe tbody tr th:only-of-type {\n",
       "        vertical-align: middle;\n",
       "    }\n",
       "\n",
       "    .dataframe tbody tr th {\n",
       "        vertical-align: top;\n",
       "    }\n",
       "\n",
       "    .dataframe thead th {\n",
       "        text-align: right;\n",
       "    }\n",
       "</style>\n",
       "<table border=\"1\" class=\"dataframe\">\n",
       "  <thead>\n",
       "    <tr style=\"text-align: right;\">\n",
       "      <th></th>\n",
       "      <th>order_id</th>\n",
       "      <th>order_item_id</th>\n",
       "      <th>product_id</th>\n",
       "      <th>seller_id</th>\n",
       "      <th>shipping_limit_date</th>\n",
       "      <th>price</th>\n",
       "      <th>freight_value</th>\n",
       "    </tr>\n",
       "  </thead>\n",
       "  <tbody>\n",
       "    <tr>\n",
       "      <th>0</th>\n",
       "      <td>00010242fe8c5a6d1ba2dd792cb16214</td>\n",
       "      <td>1</td>\n",
       "      <td>4244733e06e7ecb4970a6e2683c13e61</td>\n",
       "      <td>48436dade18ac8b2bce089ec2a041202</td>\n",
       "      <td>2017-09-19 09:45:35</td>\n",
       "      <td>58.90</td>\n",
       "      <td>13.29</td>\n",
       "    </tr>\n",
       "    <tr>\n",
       "      <th>1</th>\n",
       "      <td>00018f77f2f0320c557190d7a144bdd3</td>\n",
       "      <td>1</td>\n",
       "      <td>e5f2d52b802189ee658865ca93d83a8f</td>\n",
       "      <td>dd7ddc04e1b6c2c614352b383efe2d36</td>\n",
       "      <td>2017-05-03 11:05:13</td>\n",
       "      <td>239.90</td>\n",
       "      <td>19.93</td>\n",
       "    </tr>\n",
       "    <tr>\n",
       "      <th>2</th>\n",
       "      <td>000229ec398224ef6ca0657da4fc703e</td>\n",
       "      <td>1</td>\n",
       "      <td>c777355d18b72b67abbeef9df44fd0fd</td>\n",
       "      <td>5b51032eddd242adc84c38acab88f23d</td>\n",
       "      <td>2018-01-18 14:48:30</td>\n",
       "      <td>199.00</td>\n",
       "      <td>17.87</td>\n",
       "    </tr>\n",
       "    <tr>\n",
       "      <th>3</th>\n",
       "      <td>00024acbcdf0a6daa1e931b038114c75</td>\n",
       "      <td>1</td>\n",
       "      <td>7634da152a4610f1595efa32f14722fc</td>\n",
       "      <td>9d7a1d34a5052409006425275ba1c2b4</td>\n",
       "      <td>2018-08-15 10:10:18</td>\n",
       "      <td>12.99</td>\n",
       "      <td>12.79</td>\n",
       "    </tr>\n",
       "    <tr>\n",
       "      <th>4</th>\n",
       "      <td>00042b26cf59d7ce69dfabb4e55b4fd9</td>\n",
       "      <td>1</td>\n",
       "      <td>ac6c3623068f30de03045865e4e10089</td>\n",
       "      <td>df560393f3a51e74553ab94004ba5c87</td>\n",
       "      <td>2017-02-13 13:57:51</td>\n",
       "      <td>199.90</td>\n",
       "      <td>18.14</td>\n",
       "    </tr>\n",
       "  </tbody>\n",
       "</table>\n",
       "</div>"
      ],
      "text/plain": [
       "                           order_id  order_item_id  \\\n",
       "0  00010242fe8c5a6d1ba2dd792cb16214              1   \n",
       "1  00018f77f2f0320c557190d7a144bdd3              1   \n",
       "2  000229ec398224ef6ca0657da4fc703e              1   \n",
       "3  00024acbcdf0a6daa1e931b038114c75              1   \n",
       "4  00042b26cf59d7ce69dfabb4e55b4fd9              1   \n",
       "\n",
       "                         product_id                         seller_id  \\\n",
       "0  4244733e06e7ecb4970a6e2683c13e61  48436dade18ac8b2bce089ec2a041202   \n",
       "1  e5f2d52b802189ee658865ca93d83a8f  dd7ddc04e1b6c2c614352b383efe2d36   \n",
       "2  c777355d18b72b67abbeef9df44fd0fd  5b51032eddd242adc84c38acab88f23d   \n",
       "3  7634da152a4610f1595efa32f14722fc  9d7a1d34a5052409006425275ba1c2b4   \n",
       "4  ac6c3623068f30de03045865e4e10089  df560393f3a51e74553ab94004ba5c87   \n",
       "\n",
       "   shipping_limit_date   price  freight_value  \n",
       "0  2017-09-19 09:45:35   58.90          13.29  \n",
       "1  2017-05-03 11:05:13  239.90          19.93  \n",
       "2  2018-01-18 14:48:30  199.00          17.87  \n",
       "3  2018-08-15 10:10:18   12.99          12.79  \n",
       "4  2017-02-13 13:57:51  199.90          18.14  "
      ]
     },
     "execution_count": 146,
     "metadata": {},
     "output_type": "execute_result"
    }
   ],
   "source": [
    "olist_order_items_dataset = pd.read_csv('olist_order_items_dataset.csv')\n",
    "olist_order_items_dataset.head()"
   ]
  },
  {
   "cell_type": "code",
   "execution_count": 147,
   "metadata": {},
   "outputs": [
    {
     "data": {
      "text/plain": [
       "(112650, 7)"
      ]
     },
     "execution_count": 147,
     "metadata": {},
     "output_type": "execute_result"
    }
   ],
   "source": [
    "# Размер таблицы\n",
    "olist_order_items_dataset.shape"
   ]
  },
  {
   "cell_type": "markdown",
   "metadata": {},
   "source": [
    "order_id —  уникальный идентификатор заказа (номер чека)\n",
    "\n",
    "order_item_id —  идентификатор товара внутри одного заказа\n",
    "\n",
    "product_id —  ид товара (аналог штрихкода)\n",
    "\n",
    "seller_id — ид производителя товара\n",
    "\n",
    "shipping_limit_date —  максимальная дата доставки продавцом для передачи заказа партнеру по логистике\n",
    "\n",
    "price —  цена за единицу товара\n",
    "\n",
    "freight_value —  вес товара"
   ]
  },
  {
   "cell_type": "code",
   "execution_count": 148,
   "metadata": {},
   "outputs": [
    {
     "data": {
      "text/plain": [
       "(0, 4908, 0)"
      ]
     },
     "execution_count": 148,
     "metadata": {},
     "output_type": "execute_result"
    }
   ],
   "source": [
    "# Количество пропусков в данных\n",
    "olist_customers_dataset.isna().sum().sum(),\\\n",
    "olist_orders_dataset.isna().sum().sum(),\\\n",
    "olist_order_items_dataset.isna().sum().sum()"
   ]
  },
  {
   "cell_type": "code",
   "execution_count": 149,
   "metadata": {},
   "outputs": [
    {
     "data": {
      "text/plain": [
       "order_id                         False\n",
       "customer_id                      False\n",
       "order_status                     False\n",
       "order_purchase_timestamp         False\n",
       "order_approved_at                 True\n",
       "order_delivered_carrier_date      True\n",
       "order_delivered_customer_date     True\n",
       "order_estimated_delivery_date    False\n",
       "dtype: bool"
      ]
     },
     "execution_count": 149,
     "metadata": {},
     "output_type": "execute_result"
    }
   ],
   "source": [
    "# В каких колонках находятся пропуски\n",
    "olist_orders_dataset.isna().any()"
   ]
  },
  {
   "cell_type": "code",
   "execution_count": 150,
   "metadata": {},
   "outputs": [
    {
     "data": {
      "text/plain": [
       "(0, 0, 0)"
      ]
     },
     "execution_count": 150,
     "metadata": {},
     "output_type": "execute_result"
    }
   ],
   "source": [
    "# Количество повторяющихся строк в данных\n",
    "olist_customers_dataset.duplicated().sum().sum(),\\\n",
    "olist_orders_dataset.duplicated().sum().sum(),\\\n",
    "olist_order_items_dataset.duplicated().sum().sum()"
   ]
  },
  {
   "cell_type": "code",
   "execution_count": 151,
   "metadata": {},
   "outputs": [],
   "source": [
    "# Конвертация \"дат\" в формат датывремени\n",
    "\n",
    "olist_orders_dataset['order_purchase_timestamp'] = olist_orders_dataset['order_purchase_timestamp']\\\n",
    "                                                                                    .apply(lambda x: pd.to_datetime(x))\n",
    "\n",
    "olist_orders_dataset['order_approved_at'] = olist_orders_dataset['order_approved_at']\\\n",
    "                                                                                    .apply(lambda x: pd.to_datetime(x))\n",
    "\n",
    "olist_orders_dataset['order_delivered_carrier_date'] = olist_orders_dataset['order_delivered_carrier_date']\\\n",
    "                                                                                    .apply(lambda x: pd.to_datetime(x))\n",
    "\n",
    "olist_orders_dataset['order_delivered_customer_date'] = olist_orders_dataset['order_delivered_customer_date']\\\n",
    "                                                                                    .apply(lambda x: pd.to_datetime(x))"
   ]
  },
  {
   "cell_type": "markdown",
   "metadata": {},
   "source": [
    "### Описательный анализ данных"
   ]
  },
  {
   "cell_type": "markdown",
   "metadata": {},
   "source": [
    "**Количество пользователей, которые совершили покупку только один раз**"
   ]
  },
  {
   "cell_type": "markdown",
   "metadata": {},
   "source": [
    "\n",
    "Нужны таблица с заказами `olist_orders_dataset`и таблица с уникальными идентификаторами пользователей `olist_customers_dataset`\n",
    "\n",
    "Нужные колонки `order_id`, `customer_id`, `order_status`, `customer_unique_id`\n"
   ]
  },
  {
   "cell_type": "code",
   "execution_count": 152,
   "metadata": {},
   "outputs": [
    {
     "data": {
      "text/plain": [
       "array(['delivered', 'invoiced', 'shipped', 'processing', 'unavailable',\n",
       "       'canceled', 'created', 'approved'], dtype=object)"
      ]
     },
     "execution_count": 152,
     "metadata": {},
     "output_type": "execute_result"
    }
   ],
   "source": [
    "olist_orders_dataset['order_status'].unique()"
   ]
  },
  {
   "cell_type": "markdown",
   "metadata": {},
   "source": [
    "Сделаем предположение, что совершенной покупка является, когда имеет статус `delivered`"
   ]
  },
  {
   "cell_type": "code",
   "execution_count": 153,
   "metadata": {},
   "outputs": [
    {
     "data": {
      "text/html": [
       "<div>\n",
       "<style scoped>\n",
       "    .dataframe tbody tr th:only-of-type {\n",
       "        vertical-align: middle;\n",
       "    }\n",
       "\n",
       "    .dataframe tbody tr th {\n",
       "        vertical-align: top;\n",
       "    }\n",
       "\n",
       "    .dataframe thead th {\n",
       "        text-align: right;\n",
       "    }\n",
       "</style>\n",
       "<table border=\"1\" class=\"dataframe\">\n",
       "  <thead>\n",
       "    <tr style=\"text-align: right;\">\n",
       "      <th></th>\n",
       "      <th>customer_unique_id</th>\n",
       "      <th>orders_num</th>\n",
       "    </tr>\n",
       "  </thead>\n",
       "  <tbody>\n",
       "    <tr>\n",
       "      <th>0</th>\n",
       "      <td>0000366f3b9a7992bf8c76cfdf3221e2</td>\n",
       "      <td>1</td>\n",
       "    </tr>\n",
       "    <tr>\n",
       "      <th>1</th>\n",
       "      <td>0000b849f77a49e4a4ce2b2a4ca5be3f</td>\n",
       "      <td>1</td>\n",
       "    </tr>\n",
       "    <tr>\n",
       "      <th>2</th>\n",
       "      <td>0000f46a3911fa3c0805444483337064</td>\n",
       "      <td>1</td>\n",
       "    </tr>\n",
       "    <tr>\n",
       "      <th>3</th>\n",
       "      <td>0000f6ccb0745a6a4b88665a16c9f078</td>\n",
       "      <td>1</td>\n",
       "    </tr>\n",
       "    <tr>\n",
       "      <th>4</th>\n",
       "      <td>0004aac84e0df4da2b147fca70cf8255</td>\n",
       "      <td>1</td>\n",
       "    </tr>\n",
       "  </tbody>\n",
       "</table>\n",
       "</div>"
      ],
      "text/plain": [
       "                 customer_unique_id  orders_num\n",
       "0  0000366f3b9a7992bf8c76cfdf3221e2           1\n",
       "1  0000b849f77a49e4a4ce2b2a4ca5be3f           1\n",
       "2  0000f46a3911fa3c0805444483337064           1\n",
       "3  0000f6ccb0745a6a4b88665a16c9f078           1\n",
       "4  0004aac84e0df4da2b147fca70cf8255           1"
      ]
     },
     "execution_count": 153,
     "metadata": {},
     "output_type": "execute_result"
    }
   ],
   "source": [
    "num_orders = olist_orders_dataset[olist_orders_dataset['order_status'] == 'delivered']\\\n",
    "                .merge(olist_customers_dataset[['customer_id', 'customer_unique_id']], how = 'left', on = 'customer_id')\\\n",
    "                .groupby('customer_unique_id', as_index = False)\\\n",
    "                .agg(orders_num = ('order_id', 'count'))\n",
    "num_orders.head()"
   ]
  },
  {
   "cell_type": "code",
   "execution_count": 154,
   "metadata": {},
   "outputs": [
    {
     "data": {
      "text/plain": [
       "90557"
      ]
     },
     "execution_count": 154,
     "metadata": {},
     "output_type": "execute_result"
    }
   ],
   "source": [
    "# количество пользователейю совершивших покупку 1 раз\n",
    "num_orders[num_orders['orders_num'] == 1]['customer_unique_id'].count()"
   ]
  },
  {
   "cell_type": "markdown",
   "metadata": {},
   "source": [
    "**Среденее количество заказов в месяц, которые не доставляется по разным причинам**"
   ]
  },
  {
   "cell_type": "code",
   "execution_count": 155,
   "metadata": {},
   "outputs": [],
   "source": [
    "# Приведение колонки с датой заказа в формат даты\n",
    "olist_orders_dataset['order_purchase_timestamp'] = olist_orders_dataset['order_purchase_timestamp']\\\n",
    "                                                                                    .apply(lambda x: pd.to_datetime(x))"
   ]
  },
  {
   "cell_type": "code",
   "execution_count": 156,
   "metadata": {},
   "outputs": [
    {
     "data": {
      "text/plain": [
       "25"
      ]
     },
     "execution_count": 156,
     "metadata": {},
     "output_type": "execute_result"
    }
   ],
   "source": [
    "# количество месяцев в датасете\n",
    "month_num = olist_orders_dataset['order_purchase_timestamp'].apply(lambda x: str(x.month) + '_' + str(x.year)).nunique()\n",
    "month_num"
   ]
  },
  {
   "cell_type": "code",
   "execution_count": 157,
   "metadata": {},
   "outputs": [
    {
     "data": {
      "text/plain": [
       "canceled       25.00\n",
       "unavailable    24.36\n",
       "Name: order_status, dtype: float64"
      ]
     },
     "execution_count": 157,
     "metadata": {},
     "output_type": "execute_result"
    }
   ],
   "source": [
    "# количество недоставленных заказов (по разным причинам), усреденнное по месяцам\n",
    "olist_orders_dataset[olist_orders_dataset['order_status']\\\n",
    "                     .isin(['unavailable', 'canceled'])]['order_status']\\\n",
    "                     .value_counts() / month_num\n"
   ]
  },
  {
   "cell_type": "markdown",
   "metadata": {},
   "source": [
    "\n",
    "**Какой товар в какой день недели товар чаще всего покупается**"
   ]
  },
  {
   "cell_type": "markdown",
   "metadata": {},
   "source": [
    "\n",
    "\n",
    "Нужно к таблице с товарными позициями `olist_order_items_dataset` подтянуть дату `order_approved_at` из таблицы с заказами `olist_orders_dataset`"
   ]
  },
  {
   "cell_type": "code",
   "execution_count": 158,
   "metadata": {},
   "outputs": [
    {
     "data": {
      "text/html": [
       "<div>\n",
       "<style scoped>\n",
       "    .dataframe tbody tr th:only-of-type {\n",
       "        vertical-align: middle;\n",
       "    }\n",
       "\n",
       "    .dataframe tbody tr th {\n",
       "        vertical-align: top;\n",
       "    }\n",
       "\n",
       "    .dataframe thead th {\n",
       "        text-align: right;\n",
       "    }\n",
       "</style>\n",
       "<table border=\"1\" class=\"dataframe\">\n",
       "  <thead>\n",
       "    <tr style=\"text-align: right;\">\n",
       "      <th></th>\n",
       "      <th>order_id</th>\n",
       "      <th>product_id</th>\n",
       "      <th>order_approved_at</th>\n",
       "    </tr>\n",
       "  </thead>\n",
       "  <tbody>\n",
       "    <tr>\n",
       "      <th>0</th>\n",
       "      <td>00010242fe8c5a6d1ba2dd792cb16214</td>\n",
       "      <td>4244733e06e7ecb4970a6e2683c13e61</td>\n",
       "      <td>2017-09-13 09:45:35</td>\n",
       "    </tr>\n",
       "    <tr>\n",
       "      <th>1</th>\n",
       "      <td>00018f77f2f0320c557190d7a144bdd3</td>\n",
       "      <td>e5f2d52b802189ee658865ca93d83a8f</td>\n",
       "      <td>2017-04-26 11:05:13</td>\n",
       "    </tr>\n",
       "    <tr>\n",
       "      <th>2</th>\n",
       "      <td>000229ec398224ef6ca0657da4fc703e</td>\n",
       "      <td>c777355d18b72b67abbeef9df44fd0fd</td>\n",
       "      <td>2018-01-14 14:48:30</td>\n",
       "    </tr>\n",
       "    <tr>\n",
       "      <th>3</th>\n",
       "      <td>00024acbcdf0a6daa1e931b038114c75</td>\n",
       "      <td>7634da152a4610f1595efa32f14722fc</td>\n",
       "      <td>2018-08-08 10:10:18</td>\n",
       "    </tr>\n",
       "    <tr>\n",
       "      <th>4</th>\n",
       "      <td>00042b26cf59d7ce69dfabb4e55b4fd9</td>\n",
       "      <td>ac6c3623068f30de03045865e4e10089</td>\n",
       "      <td>2017-02-04 14:10:13</td>\n",
       "    </tr>\n",
       "  </tbody>\n",
       "</table>\n",
       "</div>"
      ],
      "text/plain": [
       "                           order_id                        product_id  \\\n",
       "0  00010242fe8c5a6d1ba2dd792cb16214  4244733e06e7ecb4970a6e2683c13e61   \n",
       "1  00018f77f2f0320c557190d7a144bdd3  e5f2d52b802189ee658865ca93d83a8f   \n",
       "2  000229ec398224ef6ca0657da4fc703e  c777355d18b72b67abbeef9df44fd0fd   \n",
       "3  00024acbcdf0a6daa1e931b038114c75  7634da152a4610f1595efa32f14722fc   \n",
       "4  00042b26cf59d7ce69dfabb4e55b4fd9  ac6c3623068f30de03045865e4e10089   \n",
       "\n",
       "    order_approved_at  \n",
       "0 2017-09-13 09:45:35  \n",
       "1 2017-04-26 11:05:13  \n",
       "2 2018-01-14 14:48:30  \n",
       "3 2018-08-08 10:10:18  \n",
       "4 2017-02-04 14:10:13  "
      ]
     },
     "execution_count": 158,
     "metadata": {},
     "output_type": "execute_result"
    }
   ],
   "source": [
    "product_by_date_df = olist_order_items_dataset[['order_id', 'product_id']]\\\n",
    "                        .merge(olist_orders_dataset[['order_id', 'order_approved_at']], how='left', on='order_id')\n",
    "product_by_date_df.head()"
   ]
  },
  {
   "cell_type": "code",
   "execution_count": 159,
   "metadata": {},
   "outputs": [],
   "source": [
    "product_by_date_df['order_approved_at'] = product_by_date_df['order_approved_at'].apply(lambda x: pd.to_datetime(x))\n",
    "product_by_date_df['day_of_week'] = product_by_date_df['order_approved_at'].apply(lambda x: x.dayofweek)"
   ]
  },
  {
   "cell_type": "code",
   "execution_count": 160,
   "metadata": {},
   "outputs": [
    {
     "data": {
      "text/html": [
       "<div>\n",
       "<style scoped>\n",
       "    .dataframe tbody tr th:only-of-type {\n",
       "        vertical-align: middle;\n",
       "    }\n",
       "\n",
       "    .dataframe tbody tr th {\n",
       "        vertical-align: top;\n",
       "    }\n",
       "\n",
       "    .dataframe thead th {\n",
       "        text-align: right;\n",
       "    }\n",
       "</style>\n",
       "<table border=\"1\" class=\"dataframe\">\n",
       "  <thead>\n",
       "    <tr style=\"text-align: right;\">\n",
       "      <th></th>\n",
       "      <th>order_id</th>\n",
       "      <th>product_id</th>\n",
       "      <th>order_approved_at</th>\n",
       "      <th>day_of_week</th>\n",
       "    </tr>\n",
       "  </thead>\n",
       "  <tbody>\n",
       "    <tr>\n",
       "      <th>0</th>\n",
       "      <td>00010242fe8c5a6d1ba2dd792cb16214</td>\n",
       "      <td>4244733e06e7ecb4970a6e2683c13e61</td>\n",
       "      <td>2017-09-13 09:45:35</td>\n",
       "      <td>2.0</td>\n",
       "    </tr>\n",
       "    <tr>\n",
       "      <th>1</th>\n",
       "      <td>00018f77f2f0320c557190d7a144bdd3</td>\n",
       "      <td>e5f2d52b802189ee658865ca93d83a8f</td>\n",
       "      <td>2017-04-26 11:05:13</td>\n",
       "      <td>2.0</td>\n",
       "    </tr>\n",
       "    <tr>\n",
       "      <th>2</th>\n",
       "      <td>000229ec398224ef6ca0657da4fc703e</td>\n",
       "      <td>c777355d18b72b67abbeef9df44fd0fd</td>\n",
       "      <td>2018-01-14 14:48:30</td>\n",
       "      <td>6.0</td>\n",
       "    </tr>\n",
       "    <tr>\n",
       "      <th>3</th>\n",
       "      <td>00024acbcdf0a6daa1e931b038114c75</td>\n",
       "      <td>7634da152a4610f1595efa32f14722fc</td>\n",
       "      <td>2018-08-08 10:10:18</td>\n",
       "      <td>2.0</td>\n",
       "    </tr>\n",
       "    <tr>\n",
       "      <th>4</th>\n",
       "      <td>00042b26cf59d7ce69dfabb4e55b4fd9</td>\n",
       "      <td>ac6c3623068f30de03045865e4e10089</td>\n",
       "      <td>2017-02-04 14:10:13</td>\n",
       "      <td>5.0</td>\n",
       "    </tr>\n",
       "  </tbody>\n",
       "</table>\n",
       "</div>"
      ],
      "text/plain": [
       "                           order_id                        product_id  \\\n",
       "0  00010242fe8c5a6d1ba2dd792cb16214  4244733e06e7ecb4970a6e2683c13e61   \n",
       "1  00018f77f2f0320c557190d7a144bdd3  e5f2d52b802189ee658865ca93d83a8f   \n",
       "2  000229ec398224ef6ca0657da4fc703e  c777355d18b72b67abbeef9df44fd0fd   \n",
       "3  00024acbcdf0a6daa1e931b038114c75  7634da152a4610f1595efa32f14722fc   \n",
       "4  00042b26cf59d7ce69dfabb4e55b4fd9  ac6c3623068f30de03045865e4e10089   \n",
       "\n",
       "    order_approved_at  day_of_week  \n",
       "0 2017-09-13 09:45:35          2.0  \n",
       "1 2017-04-26 11:05:13          2.0  \n",
       "2 2018-01-14 14:48:30          6.0  \n",
       "3 2018-08-08 10:10:18          2.0  \n",
       "4 2017-02-04 14:10:13          5.0  "
      ]
     },
     "execution_count": 160,
     "metadata": {},
     "output_type": "execute_result"
    }
   ],
   "source": [
    "product_by_date_df.head()"
   ]
  },
  {
   "cell_type": "code",
   "execution_count": 161,
   "metadata": {},
   "outputs": [
    {
     "data": {
      "text/html": [
       "<div>\n",
       "<style scoped>\n",
       "    .dataframe tbody tr th:only-of-type {\n",
       "        vertical-align: middle;\n",
       "    }\n",
       "\n",
       "    .dataframe tbody tr th {\n",
       "        vertical-align: top;\n",
       "    }\n",
       "\n",
       "    .dataframe thead th {\n",
       "        text-align: right;\n",
       "    }\n",
       "</style>\n",
       "<table border=\"1\" class=\"dataframe\">\n",
       "  <thead>\n",
       "    <tr style=\"text-align: right;\">\n",
       "      <th></th>\n",
       "      <th></th>\n",
       "      <th>product_num</th>\n",
       "    </tr>\n",
       "    <tr>\n",
       "      <th>product_id</th>\n",
       "      <th>day_of_week</th>\n",
       "      <th></th>\n",
       "    </tr>\n",
       "  </thead>\n",
       "  <tbody>\n",
       "    <tr>\n",
       "      <th>00066f42aeeb9f3007548bb9d3f33c38</th>\n",
       "      <th>6.0</th>\n",
       "      <td>1</td>\n",
       "    </tr>\n",
       "    <tr>\n",
       "      <th>00088930e925c41fd95ebfe695fd2655</th>\n",
       "      <th>1.0</th>\n",
       "      <td>1</td>\n",
       "    </tr>\n",
       "    <tr>\n",
       "      <th>0009406fd7479715e4bef61dd91f2462</th>\n",
       "      <th>4.0</th>\n",
       "      <td>1</td>\n",
       "    </tr>\n",
       "    <tr>\n",
       "      <th rowspan=\"2\" valign=\"top\">000b8f95fcb9e0096488278317764d19</th>\n",
       "      <th>2.0</th>\n",
       "      <td>1</td>\n",
       "    </tr>\n",
       "    <tr>\n",
       "      <th>4.0</th>\n",
       "      <td>1</td>\n",
       "    </tr>\n",
       "    <tr>\n",
       "      <th>...</th>\n",
       "      <th>...</th>\n",
       "      <td>...</td>\n",
       "    </tr>\n",
       "    <tr>\n",
       "      <th>fff9553ac224cec9d15d49f5a263411f</th>\n",
       "      <th>5.0</th>\n",
       "      <td>1</td>\n",
       "    </tr>\n",
       "    <tr>\n",
       "      <th rowspan=\"3\" valign=\"top\">fffdb2d0ec8d6a61f0a0a0db3f25b441</th>\n",
       "      <th>1.0</th>\n",
       "      <td>3</td>\n",
       "    </tr>\n",
       "    <tr>\n",
       "      <th>3.0</th>\n",
       "      <td>1</td>\n",
       "    </tr>\n",
       "    <tr>\n",
       "      <th>4.0</th>\n",
       "      <td>1</td>\n",
       "    </tr>\n",
       "    <tr>\n",
       "      <th>fffe9eeff12fcbd74a2f2b007dde0c58</th>\n",
       "      <th>2.0</th>\n",
       "      <td>1</td>\n",
       "    </tr>\n",
       "  </tbody>\n",
       "</table>\n",
       "<p>61143 rows × 1 columns</p>\n",
       "</div>"
      ],
      "text/plain": [
       "                                              product_num\n",
       "product_id                       day_of_week             \n",
       "00066f42aeeb9f3007548bb9d3f33c38 6.0                    1\n",
       "00088930e925c41fd95ebfe695fd2655 1.0                    1\n",
       "0009406fd7479715e4bef61dd91f2462 4.0                    1\n",
       "000b8f95fcb9e0096488278317764d19 2.0                    1\n",
       "                                 4.0                    1\n",
       "...                                                   ...\n",
       "fff9553ac224cec9d15d49f5a263411f 5.0                    1\n",
       "fffdb2d0ec8d6a61f0a0a0db3f25b441 1.0                    3\n",
       "                                 3.0                    1\n",
       "                                 4.0                    1\n",
       "fffe9eeff12fcbd74a2f2b007dde0c58 2.0                    1\n",
       "\n",
       "[61143 rows x 1 columns]"
      ]
     },
     "execution_count": 161,
     "metadata": {},
     "output_type": "execute_result"
    }
   ],
   "source": [
    "product_by_date_df.groupby('product_id')\\\n",
    ".agg(product_num = ('day_of_week', 'value_counts'))\\\n",
    ".groupby(['product_id', 'day_of_week'])\\\n",
    ".max()"
   ]
  },
  {
   "cell_type": "markdown",
   "metadata": {},
   "source": [
    "**Среднее количествво покупок у каждового пользователя в неделю (по месяцам)** "
   ]
  },
  {
   "cell_type": "markdown",
   "metadata": {},
   "source": [
    "\n",
    "Необходимо к таблице с заказами `olist_orders_dataset` (колонки `order_id` - ключ, `customer_id`,\t`order_status`,\t`order_approved_at `) подтянуть данные из таблицы с товарными позициями `olist_order_items_dataset` (колонки `order_id` - ключ, `order_item_id`), а также подтянуть `customer_unique_id` из таблицы `olist_customers_dataset`\n",
    "\n",
    "`order_status` - должен быть любой кроме 'invoiced', 'unavailable', 'canceled', 'created' (т.е. только 'твердый' статус)"
   ]
  },
  {
   "cell_type": "code",
   "execution_count": 162,
   "metadata": {},
   "outputs": [],
   "source": [
    "# отбор нужных колонок из исходных таблиц\n",
    "from_orders = \\\n",
    "olist_orders_dataset[~olist_orders_dataset['order_status'].isin(['invoiced', 'unavailable', 'canceled', 'created'])]\\\n",
    "[['order_id', 'customer_id', 'order_approved_at']]\n",
    "\n",
    "from_items = olist_order_items_dataset[['order_id', 'order_item_id']]\n",
    "\n",
    "from_customers = olist_customers_dataset[['customer_id', 'customer_unique_id']]"
   ]
  },
  {
   "cell_type": "code",
   "execution_count": 163,
   "metadata": {},
   "outputs": [
    {
     "data": {
      "text/html": [
       "<div>\n",
       "<style scoped>\n",
       "    .dataframe tbody tr th:only-of-type {\n",
       "        vertical-align: middle;\n",
       "    }\n",
       "\n",
       "    .dataframe tbody tr th {\n",
       "        vertical-align: top;\n",
       "    }\n",
       "\n",
       "    .dataframe thead th {\n",
       "        text-align: right;\n",
       "    }\n",
       "</style>\n",
       "<table border=\"1\" class=\"dataframe\">\n",
       "  <thead>\n",
       "    <tr style=\"text-align: right;\">\n",
       "      <th></th>\n",
       "      <th>order_id</th>\n",
       "      <th>order_item_id</th>\n",
       "      <th>customer_id</th>\n",
       "      <th>order_approved_at</th>\n",
       "      <th>customer_unique_id</th>\n",
       "    </tr>\n",
       "  </thead>\n",
       "  <tbody>\n",
       "    <tr>\n",
       "      <th>0</th>\n",
       "      <td>00010242fe8c5a6d1ba2dd792cb16214</td>\n",
       "      <td>1</td>\n",
       "      <td>3ce436f183e68e07877b285a838db11a</td>\n",
       "      <td>2017-09-13 09:45:35</td>\n",
       "      <td>871766c5855e863f6eccc05f988b23cb</td>\n",
       "    </tr>\n",
       "    <tr>\n",
       "      <th>1</th>\n",
       "      <td>00018f77f2f0320c557190d7a144bdd3</td>\n",
       "      <td>1</td>\n",
       "      <td>f6dd3ec061db4e3987629fe6b26e5cce</td>\n",
       "      <td>2017-04-26 11:05:13</td>\n",
       "      <td>eb28e67c4c0b83846050ddfb8a35d051</td>\n",
       "    </tr>\n",
       "    <tr>\n",
       "      <th>2</th>\n",
       "      <td>000229ec398224ef6ca0657da4fc703e</td>\n",
       "      <td>1</td>\n",
       "      <td>6489ae5e4333f3693df5ad4372dab6d3</td>\n",
       "      <td>2018-01-14 14:48:30</td>\n",
       "      <td>3818d81c6709e39d06b2738a8d3a2474</td>\n",
       "    </tr>\n",
       "    <tr>\n",
       "      <th>3</th>\n",
       "      <td>00024acbcdf0a6daa1e931b038114c75</td>\n",
       "      <td>1</td>\n",
       "      <td>d4eb9395c8c0431ee92fce09860c5a06</td>\n",
       "      <td>2018-08-08 10:10:18</td>\n",
       "      <td>af861d436cfc08b2c2ddefd0ba074622</td>\n",
       "    </tr>\n",
       "    <tr>\n",
       "      <th>4</th>\n",
       "      <td>00042b26cf59d7ce69dfabb4e55b4fd9</td>\n",
       "      <td>1</td>\n",
       "      <td>58dbd0b2d70206bf40e62cd34e84d795</td>\n",
       "      <td>2017-02-04 14:10:13</td>\n",
       "      <td>64b576fb70d441e8f1b2d7d446e483c5</td>\n",
       "    </tr>\n",
       "  </tbody>\n",
       "</table>\n",
       "</div>"
      ],
      "text/plain": [
       "                           order_id  order_item_id  \\\n",
       "0  00010242fe8c5a6d1ba2dd792cb16214              1   \n",
       "1  00018f77f2f0320c557190d7a144bdd3              1   \n",
       "2  000229ec398224ef6ca0657da4fc703e              1   \n",
       "3  00024acbcdf0a6daa1e931b038114c75              1   \n",
       "4  00042b26cf59d7ce69dfabb4e55b4fd9              1   \n",
       "\n",
       "                        customer_id   order_approved_at  \\\n",
       "0  3ce436f183e68e07877b285a838db11a 2017-09-13 09:45:35   \n",
       "1  f6dd3ec061db4e3987629fe6b26e5cce 2017-04-26 11:05:13   \n",
       "2  6489ae5e4333f3693df5ad4372dab6d3 2018-01-14 14:48:30   \n",
       "3  d4eb9395c8c0431ee92fce09860c5a06 2018-08-08 10:10:18   \n",
       "4  58dbd0b2d70206bf40e62cd34e84d795 2017-02-04 14:10:13   \n",
       "\n",
       "                 customer_unique_id  \n",
       "0  871766c5855e863f6eccc05f988b23cb  \n",
       "1  eb28e67c4c0b83846050ddfb8a35d051  \n",
       "2  3818d81c6709e39d06b2738a8d3a2474  \n",
       "3  af861d436cfc08b2c2ddefd0ba074622  \n",
       "4  64b576fb70d441e8f1b2d7d446e483c5  "
      ]
     },
     "execution_count": 163,
     "metadata": {},
     "output_type": "execute_result"
    }
   ],
   "source": [
    "# объединение отобранного\n",
    "orders_items = from_items.merge(from_orders, how='left').merge(from_customers, how='left')\n",
    "orders_items.head()"
   ]
  },
  {
   "cell_type": "code",
   "execution_count": 164,
   "metadata": {},
   "outputs": [
    {
     "data": {
      "text/html": [
       "<div>\n",
       "<style scoped>\n",
       "    .dataframe tbody tr th:only-of-type {\n",
       "        vertical-align: middle;\n",
       "    }\n",
       "\n",
       "    .dataframe tbody tr th {\n",
       "        vertical-align: top;\n",
       "    }\n",
       "\n",
       "    .dataframe thead th {\n",
       "        text-align: right;\n",
       "    }\n",
       "</style>\n",
       "<table border=\"1\" class=\"dataframe\">\n",
       "  <thead>\n",
       "    <tr style=\"text-align: right;\">\n",
       "      <th></th>\n",
       "      <th>order_id</th>\n",
       "      <th>customer_unique_id</th>\n",
       "      <th>order_approved_at</th>\n",
       "      <th>items_per_order_num</th>\n",
       "    </tr>\n",
       "  </thead>\n",
       "  <tbody>\n",
       "    <tr>\n",
       "      <th>73252</th>\n",
       "      <td>bfbd0f9bdef84302105ad712db648a6c</td>\n",
       "      <td>830d5b7aaa3b6f1e9ad63703bec97d23</td>\n",
       "      <td>2016-09-15</td>\n",
       "      <td>3</td>\n",
       "    </tr>\n",
       "    <tr>\n",
       "      <th>12190</th>\n",
       "      <td>1ff217aa612f6cd7c4255c9bfe931c8b</td>\n",
       "      <td>14359ea0c7a105749c0a56478825b015</td>\n",
       "      <td>2016-10-04</td>\n",
       "      <td>1</td>\n",
       "    </tr>\n",
       "    <tr>\n",
       "      <th>78454</th>\n",
       "      <td>cd3b8574c82b42fc8129f6d502690c3e</td>\n",
       "      <td>87776adb449c551e74c13fc34f036105</td>\n",
       "      <td>2016-10-04</td>\n",
       "      <td>1</td>\n",
       "    </tr>\n",
       "    <tr>\n",
       "      <th>90845</th>\n",
       "      <td>ed8c7b1b3eb256c70ce0c74231e1da88</td>\n",
       "      <td>88bc832f104b6dd684a17dbb1b76e778</td>\n",
       "      <td>2016-10-04</td>\n",
       "      <td>1</td>\n",
       "    </tr>\n",
       "    <tr>\n",
       "      <th>80365</th>\n",
       "      <td>d207cc272675637bfed0062edffd0818</td>\n",
       "      <td>8d3a54507421dbd2ce0a1d58046826e0</td>\n",
       "      <td>2016-10-04</td>\n",
       "      <td>1</td>\n",
       "    </tr>\n",
       "  </tbody>\n",
       "</table>\n",
       "</div>"
      ],
      "text/plain": [
       "                               order_id                customer_unique_id  \\\n",
       "73252  bfbd0f9bdef84302105ad712db648a6c  830d5b7aaa3b6f1e9ad63703bec97d23   \n",
       "12190  1ff217aa612f6cd7c4255c9bfe931c8b  14359ea0c7a105749c0a56478825b015   \n",
       "78454  cd3b8574c82b42fc8129f6d502690c3e  87776adb449c551e74c13fc34f036105   \n",
       "90845  ed8c7b1b3eb256c70ce0c74231e1da88  88bc832f104b6dd684a17dbb1b76e778   \n",
       "80365  d207cc272675637bfed0062edffd0818  8d3a54507421dbd2ce0a1d58046826e0   \n",
       "\n",
       "      order_approved_at  items_per_order_num  \n",
       "73252        2016-09-15                    3  \n",
       "12190        2016-10-04                    1  \n",
       "78454        2016-10-04                    1  \n",
       "90845        2016-10-04                    1  \n",
       "80365        2016-10-04                    1  "
      ]
     },
     "execution_count": 164,
     "metadata": {},
     "output_type": "execute_result"
    }
   ],
   "source": [
    "# количество покупок в заказах покупателей\n",
    "items_per_oder =\\\n",
    "orders_items\\\n",
    ".groupby(['order_id', 'customer_unique_id', 'order_approved_at'], as_index=False)\\\n",
    ".agg(items_per_order_num = ('order_item_id', 'count'))\\\n",
    ".sort_values(by='order_approved_at')\n",
    "\n",
    "items_per_oder['order_approved_at'] = items_per_oder['order_approved_at'].apply(lambda x: pd.to_datetime(x.date()))\n",
    "\n",
    "items_per_oder.head()"
   ]
  },
  {
   "cell_type": "code",
   "execution_count": 165,
   "metadata": {},
   "outputs": [
    {
     "data": {
      "text/html": [
       "<div>\n",
       "<style scoped>\n",
       "    .dataframe tbody tr th:only-of-type {\n",
       "        vertical-align: middle;\n",
       "    }\n",
       "\n",
       "    .dataframe tbody tr th {\n",
       "        vertical-align: top;\n",
       "    }\n",
       "\n",
       "    .dataframe thead th {\n",
       "        text-align: right;\n",
       "    }\n",
       "</style>\n",
       "<table border=\"1\" class=\"dataframe\">\n",
       "  <thead>\n",
       "    <tr style=\"text-align: right;\">\n",
       "      <th></th>\n",
       "      <th>customer_unique_id</th>\n",
       "      <th>order_approved_at</th>\n",
       "      <th>items_per_day_num</th>\n",
       "    </tr>\n",
       "  </thead>\n",
       "  <tbody>\n",
       "    <tr>\n",
       "      <th>0</th>\n",
       "      <td>0000366f3b9a7992bf8c76cfdf3221e2</td>\n",
       "      <td>2018-05-10</td>\n",
       "      <td>1</td>\n",
       "    </tr>\n",
       "    <tr>\n",
       "      <th>1</th>\n",
       "      <td>0000b849f77a49e4a4ce2b2a4ca5be3f</td>\n",
       "      <td>2018-05-07</td>\n",
       "      <td>1</td>\n",
       "    </tr>\n",
       "    <tr>\n",
       "      <th>2</th>\n",
       "      <td>0000f46a3911fa3c0805444483337064</td>\n",
       "      <td>2017-03-10</td>\n",
       "      <td>1</td>\n",
       "    </tr>\n",
       "    <tr>\n",
       "      <th>3</th>\n",
       "      <td>0000f6ccb0745a6a4b88665a16c9f078</td>\n",
       "      <td>2017-10-12</td>\n",
       "      <td>1</td>\n",
       "    </tr>\n",
       "    <tr>\n",
       "      <th>4</th>\n",
       "      <td>0004aac84e0df4da2b147fca70cf8255</td>\n",
       "      <td>2017-11-14</td>\n",
       "      <td>1</td>\n",
       "    </tr>\n",
       "  </tbody>\n",
       "</table>\n",
       "</div>"
      ],
      "text/plain": [
       "                 customer_unique_id order_approved_at  items_per_day_num\n",
       "0  0000366f3b9a7992bf8c76cfdf3221e2        2018-05-10                  1\n",
       "1  0000b849f77a49e4a4ce2b2a4ca5be3f        2018-05-07                  1\n",
       "2  0000f46a3911fa3c0805444483337064        2017-03-10                  1\n",
       "3  0000f6ccb0745a6a4b88665a16c9f078        2017-10-12                  1\n",
       "4  0004aac84e0df4da2b147fca70cf8255        2017-11-14                  1"
      ]
     },
     "execution_count": 165,
     "metadata": {},
     "output_type": "execute_result"
    }
   ],
   "source": [
    "# количество покупок в день пользователей\n",
    "items_per_day = \\\n",
    "items_per_oder\\\n",
    ".groupby(['customer_unique_id', 'order_approved_at'], as_index=False)\\\n",
    ".agg(items_per_day_num = ('items_per_order_num', 'sum'))\n",
    "\n",
    "items_per_day.head()"
   ]
  },
  {
   "cell_type": "code",
   "execution_count": 166,
   "metadata": {},
   "outputs": [
    {
     "data": {
      "text/plain": [
       "(Timestamp('2016-09-15 00:00:00'), Timestamp('2018-09-03 00:00:00'))"
      ]
     },
     "execution_count": 166,
     "metadata": {},
     "output_type": "execute_result"
    }
   ],
   "source": [
    "# начало и конец наблюдений\n",
    "items_per_day.order_approved_at.min(), items_per_day.order_approved_at.max()"
   ]
  },
  {
   "cell_type": "code",
   "execution_count": 167,
   "metadata": {},
   "outputs": [],
   "source": [
    "# количество недель во всем интервале наблюдений\n",
    "n_weeks = (orders_items.order_approved_at.max() - orders_items.order_approved_at.min()).days / 7"
   ]
  },
  {
   "cell_type": "code",
   "execution_count": 168,
   "metadata": {},
   "outputs": [],
   "source": [
    "# фуннкция, рассчитывающая среднее количество покупок в неделю\n",
    "def week_avg(X):\n",
    "    return X.sum() / n_weeks"
   ]
  },
  {
   "cell_type": "code",
   "execution_count": 169,
   "metadata": {},
   "outputs": [
    {
     "data": {
      "text/html": [
       "<div>\n",
       "<style scoped>\n",
       "    .dataframe tbody tr th:only-of-type {\n",
       "        vertical-align: middle;\n",
       "    }\n",
       "\n",
       "    .dataframe tbody tr th {\n",
       "        vertical-align: top;\n",
       "    }\n",
       "\n",
       "    .dataframe thead th {\n",
       "        text-align: right;\n",
       "    }\n",
       "</style>\n",
       "<table border=\"1\" class=\"dataframe\">\n",
       "  <thead>\n",
       "    <tr style=\"text-align: right;\">\n",
       "      <th></th>\n",
       "      <th>customer_unique_id</th>\n",
       "      <th>avg_week</th>\n",
       "    </tr>\n",
       "  </thead>\n",
       "  <tbody>\n",
       "    <tr>\n",
       "      <th>74166</th>\n",
       "      <td>c8460e4251689ba205045f3ea17884a1</td>\n",
       "      <td>0.233983</td>\n",
       "    </tr>\n",
       "    <tr>\n",
       "      <th>25688</th>\n",
       "      <td>4546caea018ad8c692964e3382debd19</td>\n",
       "      <td>0.204735</td>\n",
       "    </tr>\n",
       "    <tr>\n",
       "      <th>39153</th>\n",
       "      <td>698e1cf81d01a3d389d96145f7fa6df8</td>\n",
       "      <td>0.194986</td>\n",
       "    </tr>\n",
       "    <tr>\n",
       "      <th>72586</th>\n",
       "      <td>c402f431464c72e27330a67f7b94d4fb</td>\n",
       "      <td>0.194986</td>\n",
       "    </tr>\n",
       "    <tr>\n",
       "      <th>5701</th>\n",
       "      <td>0f5ac8d5c31de21d2f25e24be15bbffb</td>\n",
       "      <td>0.175487</td>\n",
       "    </tr>\n",
       "    <tr>\n",
       "      <th>...</th>\n",
       "      <td>...</td>\n",
       "      <td>...</td>\n",
       "    </tr>\n",
       "    <tr>\n",
       "      <th>33567</th>\n",
       "      <td>5a617450496f1cf7f8dcf4e4790e6d4e</td>\n",
       "      <td>0.009749</td>\n",
       "    </tr>\n",
       "    <tr>\n",
       "      <th>33566</th>\n",
       "      <td>5a61458586c926813840fbc48a62112f</td>\n",
       "      <td>0.009749</td>\n",
       "    </tr>\n",
       "    <tr>\n",
       "      <th>33564</th>\n",
       "      <td>5a5fdc74741b68553a92d2272df59123</td>\n",
       "      <td>0.009749</td>\n",
       "    </tr>\n",
       "    <tr>\n",
       "      <th>33563</th>\n",
       "      <td>5a5e7f5f823cff210ff66c41ce412234</td>\n",
       "      <td>0.009749</td>\n",
       "    </tr>\n",
       "    <tr>\n",
       "      <th>94673</th>\n",
       "      <td>ffffd2657e2aad2907e67c3e9daecbeb</td>\n",
       "      <td>0.009749</td>\n",
       "    </tr>\n",
       "  </tbody>\n",
       "</table>\n",
       "<p>94674 rows × 2 columns</p>\n",
       "</div>"
      ],
      "text/plain": [
       "                     customer_unique_id  avg_week\n",
       "74166  c8460e4251689ba205045f3ea17884a1  0.233983\n",
       "25688  4546caea018ad8c692964e3382debd19  0.204735\n",
       "39153  698e1cf81d01a3d389d96145f7fa6df8  0.194986\n",
       "72586  c402f431464c72e27330a67f7b94d4fb  0.194986\n",
       "5701   0f5ac8d5c31de21d2f25e24be15bbffb  0.175487\n",
       "...                                 ...       ...\n",
       "33567  5a617450496f1cf7f8dcf4e4790e6d4e  0.009749\n",
       "33566  5a61458586c926813840fbc48a62112f  0.009749\n",
       "33564  5a5fdc74741b68553a92d2272df59123  0.009749\n",
       "33563  5a5e7f5f823cff210ff66c41ce412234  0.009749\n",
       "94673  ffffd2657e2aad2907e67c3e9daecbeb  0.009749\n",
       "\n",
       "[94674 rows x 2 columns]"
      ]
     },
     "execution_count": 169,
     "metadata": {},
     "output_type": "execute_result"
    }
   ],
   "source": [
    "# Среднее количество покупок каждого покупателя в неделю\n",
    "avg_items_weekly = items_per_day.groupby('customer_unique_id', as_index=False).agg(avg_week = ('items_per_day_num', week_avg))\n",
    "avg_items_weekly.sort_values(by='avg_week', ascending=False)"
   ]
  },
  {
   "cell_type": "markdown",
   "metadata": {},
   "source": [
    "### Когортный анализ\n",
    "\n",
    "Когорта с самым высоким retention на 3-й месяц (в период с января по декабрь)"
   ]
  },
  {
   "cell_type": "code",
   "execution_count": 170,
   "metadata": {},
   "outputs": [],
   "source": [
    "def cohort_analysys_ret(customer_id, ord_date_col, data, date_start, date_end, coh_step):\n",
    "    \n",
    "    '''\n",
    "    customer_id - колонка с id покупателей (str)\n",
    "    ord_date_col - колонка с датами заказов (str)\n",
    "    data - таблица с данными\n",
    "    date_start - дата начала анализа (str)\n",
    "    date_end - дата конца анализа (str)\n",
    "    coh_step - временной шаг, разделяющий когорты, месяцы (int)\n",
    "    '''\n",
    "    # перевод дат из строкового формата в формат датывремени\n",
    "    start_date = pd.to_datetime(date_start)\n",
    "    end_date = pd.to_datetime(date_end)\n",
    "    \n",
    "    # количество месяцев\n",
    "    months_num = (end_date.year - start_date.year) * 12 + end_date.month - start_date.month\n",
    "    \n",
    "    # отбор нужных колонок и перевод даты в формат датывремени\n",
    "    df = data[[customer_id, ord_date_col]]\n",
    "    df[ord_date_col] = df[ord_date_col].apply(lambda x: pd.to_datetime(x))\n",
    "    \n",
    "    retention = {}\n",
    "    \n",
    "    for month in range(0, months_num + 1):\n",
    "        \n",
    "        # месяц и год старта когорты\n",
    "        coh_start_date = start_date + dateutil.relativedelta.relativedelta(months = month)\n",
    "        coh_start_month = coh_start_date.month\n",
    "        coh_start_year = coh_start_date.year\n",
    "        \n",
    "        # месяц и год окончания наблюдения когорты\n",
    "        coh_end_date = coh_start_date + dateutil.relativedelta.relativedelta(months = coh_step)\n",
    "        coh_end_month = coh_end_date.month\n",
    "        coh_end_year = coh_end_date.year\n",
    "        \n",
    "        # множество уникальных пользователей на момент формирования когорты\n",
    "        uniq_customers_start = set(df[(df[ord_date_col].dt.month == coh_start_month) & \\\n",
    "                                      (df[ord_date_col].dt.year == coh_start_year)]\\\n",
    "                                   [customer_id].tolist())\n",
    "        \n",
    "        # множество уникальных пользователей на конец наблюдения когорты\n",
    "        uniq_customers_end = set(df[(df[ord_date_col].dt.month == coh_end_month) & \\\n",
    "                                    (df[ord_date_col].dt.year == coh_end_year)]\\\n",
    "                                 [customer_id].tolist())\n",
    "        \n",
    "        # расчет retention, как доли выживших пользователей к концу наблюдения когорты                \n",
    "        retention_ = len(uniq_customers_start.intersection(uniq_customers_end)) / len(uniq_customers_start)\n",
    "        retention[str(month + 1)] = retention_\n",
    "        \n",
    "    return retention"
   ]
  },
  {
   "cell_type": "markdown",
   "metadata": {},
   "source": [
    "Необходимо объединить таблицы с покупателями `olist_customers_dataset` и заказами `olist_orders_dataset` по полю `customer_id`, и далее работать с полями `customer_unique_id` и `order_purchase_timestamp`"
   ]
  },
  {
   "cell_type": "code",
   "execution_count": 171,
   "metadata": {},
   "outputs": [],
   "source": [
    "data_5 = olist_orders_dataset[['customer_id', 'order_purchase_timestamp']]\\\n",
    "            .merge(olist_customers_dataset[['customer_id', 'customer_unique_id']], how = 'left', on = 'customer_id')"
   ]
  },
  {
   "cell_type": "code",
   "execution_count": 172,
   "metadata": {},
   "outputs": [
    {
     "data": {
      "text/plain": [
       "(Timestamp('2016-09-04 21:15:19'), Timestamp('2018-10-17 17:30:18'))"
      ]
     },
     "execution_count": 172,
     "metadata": {},
     "output_type": "execute_result"
    }
   ],
   "source": [
    "# Временной интервал данных по времени создания заказов\n",
    "data_5['order_purchase_timestamp'].min(), data_5['order_purchase_timestamp'].max()"
   ]
  },
  {
   "cell_type": "markdown",
   "metadata": {},
   "source": [
    "Период с января по декабрь приходится только на 2017 год"
   ]
  },
  {
   "cell_type": "code",
   "execution_count": 173,
   "metadata": {},
   "outputs": [
    {
     "name": "stderr",
     "output_type": "stream",
     "text": [
      "C:\\Users\\Alexey\\Anaconda3\\lib\\site-packages\\ipykernel_launcher.py:20: SettingWithCopyWarning: \n",
      "A value is trying to be set on a copy of a slice from a DataFrame.\n",
      "Try using .loc[row_indexer,col_indexer] = value instead\n",
      "\n",
      "See the caveats in the documentation: https://pandas.pydata.org/pandas-docs/stable/user_guide/indexing.html#returning-a-view-versus-a-copy\n"
     ]
    },
    {
     "data": {
      "text/plain": [
       "{'1': 0.00130718954248366,\n",
       " '2': 0.0011396011396011395,\n",
       " '3': 0.003785011355034065,\n",
       " '4': 0.0016863406408094434,\n",
       " '5': 0.004413793103448276,\n",
       " '6': 0.00440251572327044,\n",
       " '7': 0.002786926779832784,\n",
       " '8': 0.002826189354686764,\n",
       " '9': 0.002849002849002849,\n",
       " '10': 0.0010962508221881166,\n",
       " '11': 0.0017496635262449528,\n",
       " '12': 0.0033910405140103518}"
      ]
     },
     "execution_count": 173,
     "metadata": {},
     "output_type": "execute_result"
    }
   ],
   "source": [
    "# Применяем написанную функцию\n",
    "cohort_analysys_ret(customer_id = 'customer_unique_id', ord_date_col='order_purchase_timestamp', \\\n",
    "                    data = data_5, date_start = '01-01-2017', date_end = '12-01-2017', coh_step = 3)"
   ]
  },
  {
   "cell_type": "markdown",
   "metadata": {},
   "source": [
    "**Итак, наибольший retention на 3й месяц наблюдается для майской когорты.**"
   ]
  },
  {
   "cell_type": "code",
   "execution_count": 174,
   "metadata": {},
   "outputs": [
    {
     "data": {
      "text/plain": [
       "(96096, 99441)"
      ]
     },
     "execution_count": 174,
     "metadata": {},
     "output_type": "execute_result"
    }
   ],
   "source": [
    "olist_customers_dataset['customer_unique_id'].nunique(), olist_orders_dataset['customer_id'].nunique()"
   ]
  },
  {
   "cell_type": "markdown",
   "metadata": {},
   "source": [
    "*Небольшая доля \"выживших\" клиентов может объяснятся небольшой разницей в числе уникальных \"показанных идентификаторах пользователей\" и числе уникальных id пользователей*"
   ]
  },
  {
   "cell_type": "markdown",
   "metadata": {},
   "source": [
    "### RFM-сегментация\n",
    "\n",
    "Для каждого кластера будут выведены средние значения метрик R, F, M"
   ]
  },
  {
   "cell_type": "code",
   "execution_count": 175,
   "metadata": {},
   "outputs": [],
   "source": [
    "# Подготовка данных\n",
    "# Из трех исходных таблиц берутся только нужные колонки\n",
    "# Из таблицы с заказами берутся только те заказы, которые имеют \"твердый\" статус \n",
    "\n",
    "from_orders_ = olist_orders_dataset[~olist_orders_dataset['order_status']\\\n",
    "                                    .isin(['invoiced', 'unavailable', 'canceled', 'created'])]\\\n",
    "                                [['order_id', 'customer_id', 'order_purchase_timestamp']]\n",
    "\n",
    "from_customers_ = olist_customers_dataset[['customer_id', 'customer_unique_id']]\n",
    "\n",
    "from_items_ =  olist_order_items_dataset[['order_id', 'order_item_id', 'product_id', 'price', 'freight_value']]"
   ]
  },
  {
   "cell_type": "code",
   "execution_count": 176,
   "metadata": {},
   "outputs": [
    {
     "name": "stderr",
     "output_type": "stream",
     "text": [
      "C:\\Users\\Alexey\\Anaconda3\\lib\\site-packages\\ipykernel_launcher.py:2: SettingWithCopyWarning: \n",
      "A value is trying to be set on a copy of a slice from a DataFrame.\n",
      "Try using .loc[row_indexer,col_indexer] = value instead\n",
      "\n",
      "See the caveats in the documentation: https://pandas.pydata.org/pandas-docs/stable/user_guide/indexing.html#returning-a-view-versus-a-copy\n",
      "  \n"
     ]
    },
    {
     "data": {
      "text/html": [
       "<div>\n",
       "<style scoped>\n",
       "    .dataframe tbody tr th:only-of-type {\n",
       "        vertical-align: middle;\n",
       "    }\n",
       "\n",
       "    .dataframe tbody tr th {\n",
       "        vertical-align: top;\n",
       "    }\n",
       "\n",
       "    .dataframe thead th {\n",
       "        text-align: right;\n",
       "    }\n",
       "</style>\n",
       "<table border=\"1\" class=\"dataframe\">\n",
       "  <thead>\n",
       "    <tr style=\"text-align: right;\">\n",
       "      <th></th>\n",
       "      <th>order_id</th>\n",
       "      <th>order_value</th>\n",
       "    </tr>\n",
       "  </thead>\n",
       "  <tbody>\n",
       "    <tr>\n",
       "      <th>0</th>\n",
       "      <td>00010242fe8c5a6d1ba2dd792cb16214</td>\n",
       "      <td>782.7810</td>\n",
       "    </tr>\n",
       "    <tr>\n",
       "      <th>1</th>\n",
       "      <td>00018f77f2f0320c557190d7a144bdd3</td>\n",
       "      <td>4781.2070</td>\n",
       "    </tr>\n",
       "    <tr>\n",
       "      <th>2</th>\n",
       "      <td>000229ec398224ef6ca0657da4fc703e</td>\n",
       "      <td>3556.1300</td>\n",
       "    </tr>\n",
       "    <tr>\n",
       "      <th>3</th>\n",
       "      <td>00024acbcdf0a6daa1e931b038114c75</td>\n",
       "      <td>166.1421</td>\n",
       "    </tr>\n",
       "    <tr>\n",
       "      <th>4</th>\n",
       "      <td>00042b26cf59d7ce69dfabb4e55b4fd9</td>\n",
       "      <td>3626.1860</td>\n",
       "    </tr>\n",
       "  </tbody>\n",
       "</table>\n",
       "</div>"
      ],
      "text/plain": [
       "                           order_id  order_value\n",
       "0  00010242fe8c5a6d1ba2dd792cb16214     782.7810\n",
       "1  00018f77f2f0320c557190d7a144bdd3    4781.2070\n",
       "2  000229ec398224ef6ca0657da4fc703e    3556.1300\n",
       "3  00024acbcdf0a6daa1e931b038114c75     166.1421\n",
       "4  00042b26cf59d7ce69dfabb4e55b4fd9    3626.1860"
      ]
     },
     "execution_count": 176,
     "metadata": {},
     "output_type": "execute_result"
    }
   ],
   "source": [
    "# колонка с ценой товара в чеке\n",
    "from_items_['item_total'] = from_items_['price'] * from_items_['freight_value']\n",
    "\n",
    "# таблица с общими суммами заказов\n",
    "total_per_order = from_items_.groupby('order_id', as_index = False).agg(order_value = ('item_total', 'sum'))\n",
    "total_per_order.head()"
   ]
  },
  {
   "cell_type": "code",
   "execution_count": 177,
   "metadata": {},
   "outputs": [
    {
     "data": {
      "text/html": [
       "<div>\n",
       "<style scoped>\n",
       "    .dataframe tbody tr th:only-of-type {\n",
       "        vertical-align: middle;\n",
       "    }\n",
       "\n",
       "    .dataframe tbody tr th {\n",
       "        vertical-align: top;\n",
       "    }\n",
       "\n",
       "    .dataframe thead th {\n",
       "        text-align: right;\n",
       "    }\n",
       "</style>\n",
       "<table border=\"1\" class=\"dataframe\">\n",
       "  <thead>\n",
       "    <tr style=\"text-align: right;\">\n",
       "      <th></th>\n",
       "      <th>order_date</th>\n",
       "      <th>user_id</th>\n",
       "      <th>order_value</th>\n",
       "    </tr>\n",
       "  </thead>\n",
       "  <tbody>\n",
       "    <tr>\n",
       "      <th>0</th>\n",
       "      <td>2017-10-02</td>\n",
       "      <td>7c396fd4830fd04220f754e42b4e5bff</td>\n",
       "      <td>261.5128</td>\n",
       "    </tr>\n",
       "    <tr>\n",
       "      <th>1</th>\n",
       "      <td>2018-07-24</td>\n",
       "      <td>af07308b275d755c9edb36a90c618231</td>\n",
       "      <td>2701.6120</td>\n",
       "    </tr>\n",
       "    <tr>\n",
       "      <th>2</th>\n",
       "      <td>2018-08-08</td>\n",
       "      <td>3a653a41f6f9fc3d2a113cf8398680e8</td>\n",
       "      <td>3073.2780</td>\n",
       "    </tr>\n",
       "    <tr>\n",
       "      <th>3</th>\n",
       "      <td>2017-11-18</td>\n",
       "      <td>7c142cf63193a1473d2e66489a9ae977</td>\n",
       "      <td>1224.0000</td>\n",
       "    </tr>\n",
       "    <tr>\n",
       "      <th>4</th>\n",
       "      <td>2018-02-13</td>\n",
       "      <td>72632f0f9dd73dfee390c9b22eb56dd6</td>\n",
       "      <td>173.5280</td>\n",
       "    </tr>\n",
       "  </tbody>\n",
       "</table>\n",
       "</div>"
      ],
      "text/plain": [
       "   order_date                           user_id  order_value\n",
       "0  2017-10-02  7c396fd4830fd04220f754e42b4e5bff     261.5128\n",
       "1  2018-07-24  af07308b275d755c9edb36a90c618231    2701.6120\n",
       "2  2018-08-08  3a653a41f6f9fc3d2a113cf8398680e8    3073.2780\n",
       "3  2017-11-18  7c142cf63193a1473d2e66489a9ae977    1224.0000\n",
       "4  2018-02-13  72632f0f9dd73dfee390c9b22eb56dd6     173.5280"
      ]
     },
     "execution_count": 177,
     "metadata": {},
     "output_type": "execute_result"
    }
   ],
   "source": [
    "# соединение данных в одну таблицу\n",
    "# уникальный id покупателя, даты заказов, суммы заказов\n",
    "data_6 = from_orders_.merge(total_per_order, how='left', on='order_id')\\\n",
    "            .merge(from_customers_, how='left', on='customer_id')\\\n",
    "            .drop(['customer_id', 'order_id'], axis = 1)\\\n",
    "            .rename(columns={'order_purchase_timestamp': 'order_date', 'customer_unique_id': 'user_id'})\\\n",
    "            .reindex(columns=['order_date', 'user_id', 'order_value'])\\\n",
    "            .dropna()\n",
    "\n",
    "data_6['order_date'] = data_6['order_date'].apply(lambda x: x.date())\n",
    "data_6.head()"
   ]
  },
  {
   "cell_type": "code",
   "execution_count": 178,
   "metadata": {},
   "outputs": [
    {
     "data": {
      "text/plain": [
       "datetime.timedelta(days=729)"
      ]
     },
     "execution_count": 178,
     "metadata": {},
     "output_type": "execute_result"
    }
   ],
   "source": [
    "# длительноть временного отрезка всех наблюдений в днях\n",
    "data_6['order_date'].max() - data_6['order_date'].min()"
   ]
  },
  {
   "cell_type": "code",
   "execution_count": 179,
   "metadata": {},
   "outputs": [],
   "source": [
    "# формирование CSV файла для загрузки в RFMizer\n",
    "data_6.to_csv('orders.csv', index=None, sep=',', encoding='utf-8')"
   ]
  },
  {
   "cell_type": "markdown",
   "metadata": {},
   "source": [
    "Параметры для RFMizer:\n",
    "- количество сегментов для всех показателй - 3\n",
    "- количество дней от сегодняшней даты для анализа - 30 (месяц)\n",
    "- количество дней для предсказания - 182 (оно осталось дефолтным)"
   ]
  },
  {
   "cell_type": "code",
   "execution_count": 180,
   "metadata": {},
   "outputs": [],
   "source": [
    "# Загрузка результатов\n",
    "RFM_borders = pd.read_csv('RFM-3-3-3-30-182_borders.csv')\n",
    "RFM_mapping = pd.read_csv('RFM-3-3-3-30-182_mapping.csv')\n",
    "RFM_ratios = pd.read_csv('RFM-3-3-3-30-182_ratios.csv')"
   ]
  },
  {
   "cell_type": "code",
   "execution_count": 181,
   "metadata": {},
   "outputs": [
    {
     "data": {
      "text/html": [
       "<div>\n",
       "<style scoped>\n",
       "    .dataframe tbody tr th:only-of-type {\n",
       "        vertical-align: middle;\n",
       "    }\n",
       "\n",
       "    .dataframe tbody tr th {\n",
       "        vertical-align: top;\n",
       "    }\n",
       "\n",
       "    .dataframe thead th {\n",
       "        text-align: right;\n",
       "    }\n",
       "</style>\n",
       "<table border=\"1\" class=\"dataframe\">\n",
       "  <thead>\n",
       "    <tr style=\"text-align: right;\">\n",
       "      <th></th>\n",
       "      <th>dimension</th>\n",
       "      <th>segment</th>\n",
       "      <th>border</th>\n",
       "    </tr>\n",
       "  </thead>\n",
       "  <tbody>\n",
       "    <tr>\n",
       "      <th>0</th>\n",
       "      <td>frequency</td>\n",
       "      <td>1</td>\n",
       "      <td>2.000</td>\n",
       "    </tr>\n",
       "    <tr>\n",
       "      <th>1</th>\n",
       "      <td>frequency</td>\n",
       "      <td>2</td>\n",
       "      <td>3.000</td>\n",
       "    </tr>\n",
       "    <tr>\n",
       "      <th>2</th>\n",
       "      <td>monetary</td>\n",
       "      <td>1</td>\n",
       "      <td>793.385</td>\n",
       "    </tr>\n",
       "    <tr>\n",
       "      <th>3</th>\n",
       "      <td>monetary</td>\n",
       "      <td>2</td>\n",
       "      <td>2239.380</td>\n",
       "    </tr>\n",
       "    <tr>\n",
       "      <th>4</th>\n",
       "      <td>recency</td>\n",
       "      <td>1</td>\n",
       "      <td>-23.000</td>\n",
       "    </tr>\n",
       "    <tr>\n",
       "      <th>5</th>\n",
       "      <td>recency</td>\n",
       "      <td>2</td>\n",
       "      <td>-16.000</td>\n",
       "    </tr>\n",
       "  </tbody>\n",
       "</table>\n",
       "</div>"
      ],
      "text/plain": [
       "   dimension  segment    border\n",
       "0  frequency        1     2.000\n",
       "1  frequency        2     3.000\n",
       "2   monetary        1   793.385\n",
       "3   monetary        2  2239.380\n",
       "4    recency        1   -23.000\n",
       "5    recency        2   -16.000"
      ]
     },
     "execution_count": 181,
     "metadata": {},
     "output_type": "execute_result"
    }
   ],
   "source": [
    "RFM_borders"
   ]
  },
  {
   "cell_type": "code",
   "execution_count": 182,
   "metadata": {
    "scrolled": true
   },
   "outputs": [
    {
     "data": {
      "text/html": [
       "<div>\n",
       "<style scoped>\n",
       "    .dataframe tbody tr th:only-of-type {\n",
       "        vertical-align: middle;\n",
       "    }\n",
       "\n",
       "    .dataframe tbody tr th {\n",
       "        vertical-align: top;\n",
       "    }\n",
       "\n",
       "    .dataframe thead th {\n",
       "        text-align: right;\n",
       "    }\n",
       "</style>\n",
       "<table border=\"1\" class=\"dataframe\">\n",
       "  <thead>\n",
       "    <tr style=\"text-align: right;\">\n",
       "      <th></th>\n",
       "      <th>frequency</th>\n",
       "      <th>monetary</th>\n",
       "      <th>recency</th>\n",
       "      <th>bid ratio</th>\n",
       "    </tr>\n",
       "  </thead>\n",
       "  <tbody>\n",
       "    <tr>\n",
       "      <th>0</th>\n",
       "      <td>0</td>\n",
       "      <td>0</td>\n",
       "      <td>0</td>\n",
       "      <td>0.843480</td>\n",
       "    </tr>\n",
       "    <tr>\n",
       "      <th>1</th>\n",
       "      <td>1</td>\n",
       "      <td>1</td>\n",
       "      <td>2</td>\n",
       "      <td>1.956245</td>\n",
       "    </tr>\n",
       "    <tr>\n",
       "      <th>2</th>\n",
       "      <td>1</td>\n",
       "      <td>1</td>\n",
       "      <td>3</td>\n",
       "      <td>3.234352</td>\n",
       "    </tr>\n",
       "    <tr>\n",
       "      <th>3</th>\n",
       "      <td>1</td>\n",
       "      <td>1</td>\n",
       "      <td>1</td>\n",
       "      <td>0.431071</td>\n",
       "    </tr>\n",
       "    <tr>\n",
       "      <th>4</th>\n",
       "      <td>1</td>\n",
       "      <td>2</td>\n",
       "      <td>3</td>\n",
       "      <td>2.149574</td>\n",
       "    </tr>\n",
       "    <tr>\n",
       "      <th>5</th>\n",
       "      <td>1</td>\n",
       "      <td>2</td>\n",
       "      <td>1</td>\n",
       "      <td>0.437925</td>\n",
       "    </tr>\n",
       "    <tr>\n",
       "      <th>6</th>\n",
       "      <td>1</td>\n",
       "      <td>3</td>\n",
       "      <td>3</td>\n",
       "      <td>3.200101</td>\n",
       "    </tr>\n",
       "    <tr>\n",
       "      <th>7</th>\n",
       "      <td>1</td>\n",
       "      <td>3</td>\n",
       "      <td>2</td>\n",
       "      <td>1.132156</td>\n",
       "    </tr>\n",
       "    <tr>\n",
       "      <th>8</th>\n",
       "      <td>1</td>\n",
       "      <td>3</td>\n",
       "      <td>1</td>\n",
       "      <td>1.518151</td>\n",
       "    </tr>\n",
       "    <tr>\n",
       "      <th>9</th>\n",
       "      <td>1</td>\n",
       "      <td>2</td>\n",
       "      <td>2</td>\n",
       "      <td>0.611733</td>\n",
       "    </tr>\n",
       "    <tr>\n",
       "      <th>10</th>\n",
       "      <td>3</td>\n",
       "      <td>2</td>\n",
       "      <td>3</td>\n",
       "      <td>0.000000</td>\n",
       "    </tr>\n",
       "    <tr>\n",
       "      <th>11</th>\n",
       "      <td>2</td>\n",
       "      <td>3</td>\n",
       "      <td>3</td>\n",
       "      <td>16.906545</td>\n",
       "    </tr>\n",
       "    <tr>\n",
       "      <th>12</th>\n",
       "      <td>2</td>\n",
       "      <td>1</td>\n",
       "      <td>1</td>\n",
       "      <td>9.701942</td>\n",
       "    </tr>\n",
       "    <tr>\n",
       "      <th>13</th>\n",
       "      <td>2</td>\n",
       "      <td>2</td>\n",
       "      <td>3</td>\n",
       "      <td>1.268536</td>\n",
       "    </tr>\n",
       "    <tr>\n",
       "      <th>14</th>\n",
       "      <td>2</td>\n",
       "      <td>2</td>\n",
       "      <td>2</td>\n",
       "      <td>0.000000</td>\n",
       "    </tr>\n",
       "    <tr>\n",
       "      <th>15</th>\n",
       "      <td>2</td>\n",
       "      <td>1</td>\n",
       "      <td>2</td>\n",
       "      <td>0.000000</td>\n",
       "    </tr>\n",
       "    <tr>\n",
       "      <th>16</th>\n",
       "      <td>2</td>\n",
       "      <td>1</td>\n",
       "      <td>3</td>\n",
       "      <td>2.774102</td>\n",
       "    </tr>\n",
       "    <tr>\n",
       "      <th>17</th>\n",
       "      <td>2</td>\n",
       "      <td>3</td>\n",
       "      <td>2</td>\n",
       "      <td>0.000000</td>\n",
       "    </tr>\n",
       "    <tr>\n",
       "      <th>18</th>\n",
       "      <td>2</td>\n",
       "      <td>2</td>\n",
       "      <td>1</td>\n",
       "      <td>0.000000</td>\n",
       "    </tr>\n",
       "  </tbody>\n",
       "</table>\n",
       "</div>"
      ],
      "text/plain": [
       "    frequency  monetary  recency  bid ratio\n",
       "0           0         0        0   0.843480\n",
       "1           1         1        2   1.956245\n",
       "2           1         1        3   3.234352\n",
       "3           1         1        1   0.431071\n",
       "4           1         2        3   2.149574\n",
       "5           1         2        1   0.437925\n",
       "6           1         3        3   3.200101\n",
       "7           1         3        2   1.132156\n",
       "8           1         3        1   1.518151\n",
       "9           1         2        2   0.611733\n",
       "10          3         2        3   0.000000\n",
       "11          2         3        3  16.906545\n",
       "12          2         1        1   9.701942\n",
       "13          2         2        3   1.268536\n",
       "14          2         2        2   0.000000\n",
       "15          2         1        2   0.000000\n",
       "16          2         1        3   2.774102\n",
       "17          2         3        2   0.000000\n",
       "18          2         2        1   0.000000"
      ]
     },
     "execution_count": 182,
     "metadata": {},
     "output_type": "execute_result"
    }
   ],
   "source": [
    "RFM_ratios"
   ]
  },
  {
   "cell_type": "code",
   "execution_count": 183,
   "metadata": {},
   "outputs": [
    {
     "data": {
      "text/html": [
       "<div>\n",
       "<style scoped>\n",
       "    .dataframe tbody tr th:only-of-type {\n",
       "        vertical-align: middle;\n",
       "    }\n",
       "\n",
       "    .dataframe tbody tr th {\n",
       "        vertical-align: top;\n",
       "    }\n",
       "\n",
       "    .dataframe thead th {\n",
       "        text-align: right;\n",
       "    }\n",
       "</style>\n",
       "<table border=\"1\" class=\"dataframe\">\n",
       "  <thead>\n",
       "    <tr style=\"text-align: right;\">\n",
       "      <th></th>\n",
       "      <th>user_id</th>\n",
       "      <th>frequency</th>\n",
       "      <th>monetary</th>\n",
       "      <th>recency</th>\n",
       "    </tr>\n",
       "  </thead>\n",
       "  <tbody>\n",
       "    <tr>\n",
       "      <th>0</th>\n",
       "      <td>7c396fd4830fd04220f754e42b4e5bff</td>\n",
       "      <td>0</td>\n",
       "      <td>0</td>\n",
       "      <td>0</td>\n",
       "    </tr>\n",
       "    <tr>\n",
       "      <th>1</th>\n",
       "      <td>af07308b275d755c9edb36a90c618231</td>\n",
       "      <td>0</td>\n",
       "      <td>0</td>\n",
       "      <td>0</td>\n",
       "    </tr>\n",
       "    <tr>\n",
       "      <th>2</th>\n",
       "      <td>3a653a41f6f9fc3d2a113cf8398680e8</td>\n",
       "      <td>1</td>\n",
       "      <td>3</td>\n",
       "      <td>1</td>\n",
       "    </tr>\n",
       "    <tr>\n",
       "      <th>3</th>\n",
       "      <td>7c142cf63193a1473d2e66489a9ae977</td>\n",
       "      <td>0</td>\n",
       "      <td>0</td>\n",
       "      <td>0</td>\n",
       "    </tr>\n",
       "    <tr>\n",
       "      <th>4</th>\n",
       "      <td>72632f0f9dd73dfee390c9b22eb56dd6</td>\n",
       "      <td>0</td>\n",
       "      <td>0</td>\n",
       "      <td>0</td>\n",
       "    </tr>\n",
       "  </tbody>\n",
       "</table>\n",
       "</div>"
      ],
      "text/plain": [
       "                            user_id  frequency  monetary  recency\n",
       "0  7c396fd4830fd04220f754e42b4e5bff          0         0        0\n",
       "1  af07308b275d755c9edb36a90c618231          0         0        0\n",
       "2  3a653a41f6f9fc3d2a113cf8398680e8          1         3        1\n",
       "3  7c142cf63193a1473d2e66489a9ae977          0         0        0\n",
       "4  72632f0f9dd73dfee390c9b22eb56dd6          0         0        0"
      ]
     },
     "execution_count": 183,
     "metadata": {},
     "output_type": "execute_result"
    }
   ],
   "source": [
    "RFM_mapping.head()"
   ]
  },
  {
   "cell_type": "code",
   "execution_count": 184,
   "metadata": {},
   "outputs": [
    {
     "data": {
      "text/html": [
       "<div>\n",
       "<style scoped>\n",
       "    .dataframe tbody tr th:only-of-type {\n",
       "        vertical-align: middle;\n",
       "    }\n",
       "\n",
       "    .dataframe tbody tr th {\n",
       "        vertical-align: top;\n",
       "    }\n",
       "\n",
       "    .dataframe thead th {\n",
       "        text-align: right;\n",
       "    }\n",
       "</style>\n",
       "<table border=\"1\" class=\"dataframe\">\n",
       "  <thead>\n",
       "    <tr style=\"text-align: right;\">\n",
       "      <th></th>\n",
       "      <th>order_date</th>\n",
       "      <th>user_id</th>\n",
       "      <th>order_value</th>\n",
       "      <th>frequency</th>\n",
       "      <th>monetary</th>\n",
       "      <th>recency</th>\n",
       "    </tr>\n",
       "  </thead>\n",
       "  <tbody>\n",
       "    <tr>\n",
       "      <th>0</th>\n",
       "      <td>2017-10-02</td>\n",
       "      <td>7c396fd4830fd04220f754e42b4e5bff</td>\n",
       "      <td>261.5128</td>\n",
       "      <td>0</td>\n",
       "      <td>0</td>\n",
       "      <td>0</td>\n",
       "    </tr>\n",
       "    <tr>\n",
       "      <th>1</th>\n",
       "      <td>2018-07-24</td>\n",
       "      <td>af07308b275d755c9edb36a90c618231</td>\n",
       "      <td>2701.6120</td>\n",
       "      <td>0</td>\n",
       "      <td>0</td>\n",
       "      <td>0</td>\n",
       "    </tr>\n",
       "    <tr>\n",
       "      <th>2</th>\n",
       "      <td>2018-08-08</td>\n",
       "      <td>3a653a41f6f9fc3d2a113cf8398680e8</td>\n",
       "      <td>3073.2780</td>\n",
       "      <td>1</td>\n",
       "      <td>3</td>\n",
       "      <td>1</td>\n",
       "    </tr>\n",
       "    <tr>\n",
       "      <th>3</th>\n",
       "      <td>2017-11-18</td>\n",
       "      <td>7c142cf63193a1473d2e66489a9ae977</td>\n",
       "      <td>1224.0000</td>\n",
       "      <td>0</td>\n",
       "      <td>0</td>\n",
       "      <td>0</td>\n",
       "    </tr>\n",
       "    <tr>\n",
       "      <th>4</th>\n",
       "      <td>2018-02-13</td>\n",
       "      <td>72632f0f9dd73dfee390c9b22eb56dd6</td>\n",
       "      <td>173.5280</td>\n",
       "      <td>0</td>\n",
       "      <td>0</td>\n",
       "      <td>0</td>\n",
       "    </tr>\n",
       "  </tbody>\n",
       "</table>\n",
       "</div>"
      ],
      "text/plain": [
       "   order_date                           user_id  order_value  frequency  \\\n",
       "0  2017-10-02  7c396fd4830fd04220f754e42b4e5bff     261.5128          0   \n",
       "1  2018-07-24  af07308b275d755c9edb36a90c618231    2701.6120          0   \n",
       "2  2018-08-08  3a653a41f6f9fc3d2a113cf8398680e8    3073.2780          1   \n",
       "3  2017-11-18  7c142cf63193a1473d2e66489a9ae977    1224.0000          0   \n",
       "4  2018-02-13  72632f0f9dd73dfee390c9b22eb56dd6     173.5280          0   \n",
       "\n",
       "   monetary  recency  \n",
       "0         0        0  \n",
       "1         0        0  \n",
       "2         3        1  \n",
       "3         0        0  \n",
       "4         0        0  "
      ]
     },
     "execution_count": 184,
     "metadata": {},
     "output_type": "execute_result"
    }
   ],
   "source": [
    "# Присоединяем кластры к ранее полученной таблице\n",
    "data_6_RFM = data_6.merge(RFM_mapping, how='left')\n",
    "data_6_RFM.head()"
   ]
  },
  {
   "cell_type": "code",
   "execution_count": 185,
   "metadata": {},
   "outputs": [],
   "source": [
    "# Функция для поиска промежутка времени с даты покупки по конец наблюдений\n",
    "end_dates = data_6_RFM['order_date'].max()\n",
    "def mean_rec_func(X):\n",
    "    return np.mean((end_dates - X).dt.days)"
   ]
  },
  {
   "cell_type": "code",
   "execution_count": 186,
   "metadata": {
    "scrolled": true
   },
   "outputs": [],
   "source": [
    "# Среднее время с момента последней покупки\n",
    "# получается агрегированием по класстерам (в таблице есть отдельные заказы)\n",
    "# и подсчета по группам средней разницы между датой покупки и датой окончания наблюдений\n",
    "\n",
    "mean_recency = data_6_RFM.groupby(['frequency','monetary','recency'])\\\n",
    "                         .agg(mean_recency = ('order_date', mean_rec_func))"
   ]
  },
  {
   "cell_type": "code",
   "execution_count": 187,
   "metadata": {
    "scrolled": true
   },
   "outputs": [],
   "source": [
    "# Для подсчета монетзации сначала данные группируются по кластерам и покупателям, \n",
    "# что позволяет взять сумму по всем заказам каждого покупателя, а затем\n",
    "# группируются еще раз только по кластерам, что уже позволяет вычислить \n",
    "# среднюю выручну с пользователя в разных кластерах\n",
    "\n",
    "mean_monetary = data_6_RFM.groupby(['user_id', 'frequency','monetary','recency'], as_index=False)\\\n",
    "                          .agg(user_total = ('order_value', 'sum'))\\\n",
    "                          .groupby(['frequency','monetary','recency'])\\\n",
    "                          .agg(mean_monetary = ('user_total', 'mean'))"
   ]
  },
  {
   "cell_type": "code",
   "execution_count": 188,
   "metadata": {},
   "outputs": [],
   "source": [
    "# функция подсчета среднено временного интервала для каждого покупателя\n",
    "\n",
    "def freq_func(X):\n",
    "    return X.sort_values().diff().mean()"
   ]
  },
  {
   "cell_type": "code",
   "execution_count": 189,
   "metadata": {},
   "outputs": [],
   "source": [
    "# функция для подсчета среднего временного интервала для кластера\n",
    "\n",
    "def mean_freq_func(X):\n",
    "    if X.isna().all() == True:\n",
    "        result = pd.Series(np.full(X.shape[0],), np.inf)\n",
    "    else:\n",
    "        result = pd.Series(np.nanmean(X))\n",
    "    \n",
    "    return result"
   ]
  },
  {
   "cell_type": "code",
   "execution_count": 190,
   "metadata": {},
   "outputs": [],
   "source": [
    "# для расчета среднего интерваламежду покупками данные сначала группируются по \n",
    "# покупателям и кластерам и вычиляется средение время между покупками для каждого клиента каждого кластера\n",
    "# затем данные вновь группируются но уже только по кластерам и вычисляется средний временной промежуток \n",
    "# между покупками для кластера, как простое среднее (без учета nan и nat)\n",
    "\n",
    "mean_frequency = data_6_RFM.groupby(['user_id', 'frequency','monetary','recency'], as_index=False)\\\n",
    "                           .agg(user_frequency = ('order_date', freq_func))\\\n",
    "                           .groupby(['frequency','monetary','recency'])\\\n",
    "                           .agg(mean_frequency = ('user_frequency', mean_freq_func))"
   ]
  },
  {
   "cell_type": "code",
   "execution_count": 191,
   "metadata": {},
   "outputs": [
    {
     "data": {
      "text/html": [
       "<div>\n",
       "<style scoped>\n",
       "    .dataframe tbody tr th:only-of-type {\n",
       "        vertical-align: middle;\n",
       "    }\n",
       "\n",
       "    .dataframe tbody tr th {\n",
       "        vertical-align: top;\n",
       "    }\n",
       "\n",
       "    .dataframe thead th {\n",
       "        text-align: right;\n",
       "    }\n",
       "</style>\n",
       "<table border=\"1\" class=\"dataframe\">\n",
       "  <thead>\n",
       "    <tr style=\"text-align: right;\">\n",
       "      <th></th>\n",
       "      <th>frequency</th>\n",
       "      <th>monetary</th>\n",
       "      <th>recency</th>\n",
       "      <th>mean_recency</th>\n",
       "      <th>mean_frequency</th>\n",
       "      <th>mean_monetary</th>\n",
       "    </tr>\n",
       "  </thead>\n",
       "  <tbody>\n",
       "    <tr>\n",
       "      <th>0</th>\n",
       "      <td>0</td>\n",
       "      <td>0</td>\n",
       "      <td>0</td>\n",
       "      <td>258.778503</td>\n",
       "      <td>NaT</td>\n",
       "      <td>4228.646042</td>\n",
       "    </tr>\n",
       "    <tr>\n",
       "      <th>1</th>\n",
       "      <td>1</td>\n",
       "      <td>1</td>\n",
       "      <td>1</td>\n",
       "      <td>30.952454</td>\n",
       "      <td>NaT</td>\n",
       "      <td>473.370225</td>\n",
       "    </tr>\n",
       "    <tr>\n",
       "      <th>2</th>\n",
       "      <td>1</td>\n",
       "      <td>1</td>\n",
       "      <td>2</td>\n",
       "      <td>23.080214</td>\n",
       "      <td>NaT</td>\n",
       "      <td>483.523221</td>\n",
       "    </tr>\n",
       "    <tr>\n",
       "      <th>3</th>\n",
       "      <td>1</td>\n",
       "      <td>1</td>\n",
       "      <td>3</td>\n",
       "      <td>18.031153</td>\n",
       "      <td>NaT</td>\n",
       "      <td>493.397463</td>\n",
       "    </tr>\n",
       "    <tr>\n",
       "      <th>4</th>\n",
       "      <td>1</td>\n",
       "      <td>2</td>\n",
       "      <td>1</td>\n",
       "      <td>34.102374</td>\n",
       "      <td>NaT</td>\n",
       "      <td>1519.397472</td>\n",
       "    </tr>\n",
       "    <tr>\n",
       "      <th>5</th>\n",
       "      <td>1</td>\n",
       "      <td>2</td>\n",
       "      <td>2</td>\n",
       "      <td>28.281016</td>\n",
       "      <td>NaT</td>\n",
       "      <td>1502.190160</td>\n",
       "    </tr>\n",
       "    <tr>\n",
       "      <th>6</th>\n",
       "      <td>1</td>\n",
       "      <td>2</td>\n",
       "      <td>3</td>\n",
       "      <td>19.358879</td>\n",
       "      <td>NaT</td>\n",
       "      <td>1401.570626</td>\n",
       "    </tr>\n",
       "    <tr>\n",
       "      <th>7</th>\n",
       "      <td>1</td>\n",
       "      <td>3</td>\n",
       "      <td>1</td>\n",
       "      <td>32.806008</td>\n",
       "      <td>NaT</td>\n",
       "      <td>10560.116851</td>\n",
       "    </tr>\n",
       "    <tr>\n",
       "      <th>8</th>\n",
       "      <td>1</td>\n",
       "      <td>3</td>\n",
       "      <td>2</td>\n",
       "      <td>24.315625</td>\n",
       "      <td>NaT</td>\n",
       "      <td>13654.379503</td>\n",
       "    </tr>\n",
       "    <tr>\n",
       "      <th>9</th>\n",
       "      <td>1</td>\n",
       "      <td>3</td>\n",
       "      <td>3</td>\n",
       "      <td>20.382284</td>\n",
       "      <td>NaT</td>\n",
       "      <td>8796.521904</td>\n",
       "    </tr>\n",
       "    <tr>\n",
       "      <th>10</th>\n",
       "      <td>2</td>\n",
       "      <td>1</td>\n",
       "      <td>1</td>\n",
       "      <td>26.500000</td>\n",
       "      <td>3 days 00:00:00</td>\n",
       "      <td>1418.167300</td>\n",
       "    </tr>\n",
       "    <tr>\n",
       "      <th>11</th>\n",
       "      <td>2</td>\n",
       "      <td>1</td>\n",
       "      <td>2</td>\n",
       "      <td>20.833333</td>\n",
       "      <td>1 days 16:00:00</td>\n",
       "      <td>809.910367</td>\n",
       "    </tr>\n",
       "    <tr>\n",
       "      <th>12</th>\n",
       "      <td>2</td>\n",
       "      <td>1</td>\n",
       "      <td>3</td>\n",
       "      <td>76.600000</td>\n",
       "      <td>81 days 09:00:00</td>\n",
       "      <td>1381.346925</td>\n",
       "    </tr>\n",
       "    <tr>\n",
       "      <th>13</th>\n",
       "      <td>2</td>\n",
       "      <td>2</td>\n",
       "      <td>3</td>\n",
       "      <td>17.583333</td>\n",
       "      <td>11 days 12:00:00</td>\n",
       "      <td>2638.449767</td>\n",
       "    </tr>\n",
       "    <tr>\n",
       "      <th>14</th>\n",
       "      <td>2</td>\n",
       "      <td>3</td>\n",
       "      <td>1</td>\n",
       "      <td>26.500000</td>\n",
       "      <td>1 days 16:00:00</td>\n",
       "      <td>57143.227500</td>\n",
       "    </tr>\n",
       "    <tr>\n",
       "      <th>15</th>\n",
       "      <td>2</td>\n",
       "      <td>3</td>\n",
       "      <td>2</td>\n",
       "      <td>78.250000</td>\n",
       "      <td>54 days 10:40:00</td>\n",
       "      <td>15920.986667</td>\n",
       "    </tr>\n",
       "    <tr>\n",
       "      <th>16</th>\n",
       "      <td>2</td>\n",
       "      <td>3</td>\n",
       "      <td>3</td>\n",
       "      <td>13.250000</td>\n",
       "      <td>10 days 00:00:00</td>\n",
       "      <td>15638.801500</td>\n",
       "    </tr>\n",
       "    <tr>\n",
       "      <th>17</th>\n",
       "      <td>3</td>\n",
       "      <td>1</td>\n",
       "      <td>3</td>\n",
       "      <td>236.000000</td>\n",
       "      <td>30 days 19:12:00</td>\n",
       "      <td>9215.502400</td>\n",
       "    </tr>\n",
       "  </tbody>\n",
       "</table>\n",
       "</div>"
      ],
      "text/plain": [
       "    frequency  monetary  recency  mean_recency   mean_frequency  mean_monetary\n",
       "0           0         0        0    258.778503              NaT    4228.646042\n",
       "1           1         1        1     30.952454              NaT     473.370225\n",
       "2           1         1        2     23.080214              NaT     483.523221\n",
       "3           1         1        3     18.031153              NaT     493.397463\n",
       "4           1         2        1     34.102374              NaT    1519.397472\n",
       "5           1         2        2     28.281016              NaT    1502.190160\n",
       "6           1         2        3     19.358879              NaT    1401.570626\n",
       "7           1         3        1     32.806008              NaT   10560.116851\n",
       "8           1         3        2     24.315625              NaT   13654.379503\n",
       "9           1         3        3     20.382284              NaT    8796.521904\n",
       "10          2         1        1     26.500000  3 days 00:00:00    1418.167300\n",
       "11          2         1        2     20.833333  1 days 16:00:00     809.910367\n",
       "12          2         1        3     76.600000 81 days 09:00:00    1381.346925\n",
       "13          2         2        3     17.583333 11 days 12:00:00    2638.449767\n",
       "14          2         3        1     26.500000  1 days 16:00:00   57143.227500\n",
       "15          2         3        2     78.250000 54 days 10:40:00   15920.986667\n",
       "16          2         3        3     13.250000 10 days 00:00:00   15638.801500\n",
       "17          3         1        3    236.000000 30 days 19:12:00    9215.502400"
      ]
     },
     "execution_count": 191,
     "metadata": {},
     "output_type": "execute_result"
    }
   ],
   "source": [
    "# объединение метрик в одну таблицу\n",
    "RFM_metrics = pd.concat([mean_recency, mean_frequency, mean_monetary], axis=1).reset_index()\n",
    "RFM_metrics "
   ]
  },
  {
   "cell_type": "code",
   "execution_count": null,
   "metadata": {},
   "outputs": [],
   "source": []
  }
 ],
 "metadata": {
  "kernelspec": {
   "display_name": "Python 3",
   "language": "python",
   "name": "python3"
  },
  "language_info": {
   "codemirror_mode": {
    "name": "ipython",
    "version": 3
   },
   "file_extension": ".py",
   "mimetype": "text/x-python",
   "name": "python",
   "nbconvert_exporter": "python",
   "pygments_lexer": "ipython3",
   "version": "3.7.1"
  }
 },
 "nbformat": 4,
 "nbformat_minor": 4
}
